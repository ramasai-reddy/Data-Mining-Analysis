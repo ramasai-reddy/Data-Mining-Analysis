{
 "cells": [
  {
   "cell_type": "markdown",
   "id": "6ac3eccd-09df-4958-a8b7-8305d0807641",
   "metadata": {},
   "source": [
    "<h1><code style=\"background:black;color:white\">              Chronic Kidney Disease(CKD) Prediction                 </code></h1>"
   ]
  },
  {
   "cell_type": "markdown",
   "id": "05be6ea1-d51b-4081-9220-af233c200110",
   "metadata": {},
   "source": [
    "## Introduction"
   ]
  },
  {
   "cell_type": "markdown",
   "id": "2e72b3e4",
   "metadata": {},
   "source": [
    "<div style=\"text-align: justify\"> Chronic kidney disease, often known as chronic kidney failure, is defined by a steady decline in kidney function. The new analysis suggests that in 2017, the global prevalence of CKD was 9.1% (697.5 million cases). <br>\n",
    "We can determine if a patient has chronic kidney disease or not by using machine learning techniques to the data gathered from their blood samples. The early diagnosis of the illness allows the doctor to provide the patient the necessary medications to prevent renal failure. </div>"
   ]
  },
  {
   "cell_type": "markdown",
   "id": "22e28a73-d8b4-40c7-b398-a4fc20b7776a",
   "metadata": {},
   "source": [
    "### Authored by: Team UPMOST\n",
    "\n",
    "#### Team Members :\n",
    "- Sai Srihitha Goverdhana\n",
    "- Bhanu Prakash Konda\n",
    "- Rama Sai Reddy Chinthamreddy\n",
    "- Sowmya Komirelli\n",
    "- Ravi Teja Gorantla\n",
    "- Vivek Reddy Gurrala"
   ]
  },
  {
   "cell_type": "markdown",
   "id": "317fa465-f319-4ff1-953d-e72a29fcd99d",
   "metadata": {},
   "source": [
    "### Description of the Analysis"
   ]
  },
  {
   "cell_type": "markdown",
   "id": "d76e0583-c640-48b5-a59d-ab9e117a59b9",
   "metadata": {},
   "source": [
    "1. The data was taken over a 2-month period in India with 25 features ( eg, red blood cell count, white blood cell count, etc).    The target is the ‘classification', which is either 'ckd' or 'notckd' - ckd=chronic kidney disease. \n",
    "\n",
    "2. Using machine learning techniques to predict if a patient is suffering from a chronic kidney disease or not.\n",
    "\n",
    "3. In our project, we will be comparing few machine learning models and will apply k-folds to bring out the best recall for our dataset.\n",
    "\n",
    "4. Many ML models were previously used to predict different kidney diseases\n",
    "\n",
    "5. Various machine learning methods have been explored- including K-nearest neighbors (KNN) classifier, Random Forest classifier and decision tree classifiers,logistic regression,  Neural Networks etc. For improving these learning techniques, various cross-validation methods have been performed below.\n",
    "\n",
    "6. The important performance metric here is 'recall'"
   ]
  },
  {
   "cell_type": "markdown",
   "id": "0db98f6d-0a13-45e3-b0cf-9255358dd12d",
   "metadata": {},
   "source": [
    "### Preliminary (Business) Problem Scoping"
   ]
  },
  {
   "cell_type": "markdown",
   "id": "83630bbe-4947-4e93-bd40-8374e5857974",
   "metadata": {},
   "source": [
    "1. To determine whether a certain person in the dataset requires a diagnosis of chronic kidney disease or not, we are creating a binary classifier. Classification (CKD) 1 (Needs to be treated) will thus be our positive case, while Classification (NotCKD) 0 (Does not need to be treated) will be our negative case.\n",
    "\n",
    "2. We will test many models to see if we can create one with adequate predictive power to reliably anticipate the future."
   ]
  },
  {
   "cell_type": "markdown",
   "id": "135aa6b3-15c7-4753-ab62-62f15ce2d9e3",
   "metadata": {},
   "source": [
    "## 1. Importing the required packages"
   ]
  },
  {
   "cell_type": "code",
   "execution_count": 9,
   "id": "d254745d-9514-4ce9-8cb7-62f87aa7162d",
   "metadata": {},
   "outputs": [],
   "source": [
    "import warnings\n",
    "warnings.filterwarnings('ignore')"
   ]
  },
  {
   "cell_type": "code",
   "execution_count": 10,
   "id": "936cc6de-c3d6-4660-b9a0-b5e9b5ac4f65",
   "metadata": {},
   "outputs": [],
   "source": [
    "# importing packages\n",
    "import pandas as pd\n",
    "import numpy as np\n",
    "import seaborn as sns\n",
    "import xgboost as xgb\n",
    "import matplotlib.pyplot as plt\n",
    "from sklearn.tree import plot_tree\n",
    "from sklearn.preprocessing import LabelEncoder\n",
    "from sklearn.linear_model import LogisticRegression\n",
    "from sklearn.model_selection import train_test_split\n",
    "from sklearn.tree import DecisionTreeClassifier\n",
    "from sklearn.ensemble import RandomForestClassifier, GradientBoostingClassifier, AdaBoostClassifier\n",
    "from sklearn.neighbors import KNeighborsClassifier \n",
    "from sklearn.metrics import classification_report\n",
    "from sklearn.model_selection import GridSearchCV, RandomizedSearchCV\n",
    "from xgboost import XGBClassifier\n",
    "from sklearn import model_selection\n",
    "from sklearn.neural_network import MLPClassifier\n",
    "from imblearn.over_sampling import RandomOverSampler\n",
    "from sklearn.metrics import confusion_matrix, accuracy_score, precision_score, recall_score, f1_score, plot_roc_curve, roc_auc_score, roc_curve, auc, RocCurveDisplay, PrecisionRecallDisplay, precision_recall_curve\n",
    "\n",
    "%matplotlib inline"
   ]
  },
  {
   "cell_type": "markdown",
   "id": "cf87601d-f453-4a96-85f9-5cf79ab2d29a",
   "metadata": {},
   "source": [
    "## 2. Load, Clean and Prepare data"
   ]
  },
  {
   "cell_type": "markdown",
   "id": "7997e712-d876-4123-a4c3-04e7375c5cb8",
   "metadata": {},
   "source": [
    "###   2.1    Loading the data from data source"
   ]
  },
  {
   "cell_type": "code",
   "execution_count": 11,
   "id": "e38747b6-ddd6-40bd-a84f-11e28c728fcb",
   "metadata": {},
   "outputs": [
    {
     "data": {
      "text/html": [
       "<div>\n",
       "<style scoped>\n",
       "    .dataframe tbody tr th:only-of-type {\n",
       "        vertical-align: middle;\n",
       "    }\n",
       "\n",
       "    .dataframe tbody tr th {\n",
       "        vertical-align: top;\n",
       "    }\n",
       "\n",
       "    .dataframe thead th {\n",
       "        text-align: right;\n",
       "    }\n",
       "</style>\n",
       "<table border=\"1\" class=\"dataframe\">\n",
       "  <thead>\n",
       "    <tr style=\"text-align: right;\">\n",
       "      <th></th>\n",
       "      <th>id</th>\n",
       "      <th>age</th>\n",
       "      <th>bp</th>\n",
       "      <th>sg</th>\n",
       "      <th>al</th>\n",
       "      <th>su</th>\n",
       "      <th>rbc</th>\n",
       "      <th>pc</th>\n",
       "      <th>pcc</th>\n",
       "      <th>ba</th>\n",
       "      <th>...</th>\n",
       "      <th>pcv</th>\n",
       "      <th>wc</th>\n",
       "      <th>rc</th>\n",
       "      <th>htn</th>\n",
       "      <th>dm</th>\n",
       "      <th>cad</th>\n",
       "      <th>appet</th>\n",
       "      <th>pe</th>\n",
       "      <th>ane</th>\n",
       "      <th>classification</th>\n",
       "    </tr>\n",
       "  </thead>\n",
       "  <tbody>\n",
       "    <tr>\n",
       "      <th>0</th>\n",
       "      <td>0</td>\n",
       "      <td>48.0</td>\n",
       "      <td>80.0</td>\n",
       "      <td>1.020</td>\n",
       "      <td>1.0</td>\n",
       "      <td>0.0</td>\n",
       "      <td>NaN</td>\n",
       "      <td>normal</td>\n",
       "      <td>notpresent</td>\n",
       "      <td>notpresent</td>\n",
       "      <td>...</td>\n",
       "      <td>44</td>\n",
       "      <td>7800</td>\n",
       "      <td>5.2</td>\n",
       "      <td>yes</td>\n",
       "      <td>yes</td>\n",
       "      <td>no</td>\n",
       "      <td>good</td>\n",
       "      <td>no</td>\n",
       "      <td>no</td>\n",
       "      <td>ckd</td>\n",
       "    </tr>\n",
       "    <tr>\n",
       "      <th>1</th>\n",
       "      <td>1</td>\n",
       "      <td>7.0</td>\n",
       "      <td>50.0</td>\n",
       "      <td>1.020</td>\n",
       "      <td>4.0</td>\n",
       "      <td>0.0</td>\n",
       "      <td>NaN</td>\n",
       "      <td>normal</td>\n",
       "      <td>notpresent</td>\n",
       "      <td>notpresent</td>\n",
       "      <td>...</td>\n",
       "      <td>38</td>\n",
       "      <td>6000</td>\n",
       "      <td>NaN</td>\n",
       "      <td>no</td>\n",
       "      <td>no</td>\n",
       "      <td>no</td>\n",
       "      <td>good</td>\n",
       "      <td>no</td>\n",
       "      <td>no</td>\n",
       "      <td>ckd</td>\n",
       "    </tr>\n",
       "    <tr>\n",
       "      <th>2</th>\n",
       "      <td>2</td>\n",
       "      <td>62.0</td>\n",
       "      <td>80.0</td>\n",
       "      <td>1.010</td>\n",
       "      <td>2.0</td>\n",
       "      <td>3.0</td>\n",
       "      <td>normal</td>\n",
       "      <td>normal</td>\n",
       "      <td>notpresent</td>\n",
       "      <td>notpresent</td>\n",
       "      <td>...</td>\n",
       "      <td>31</td>\n",
       "      <td>7500</td>\n",
       "      <td>NaN</td>\n",
       "      <td>no</td>\n",
       "      <td>yes</td>\n",
       "      <td>no</td>\n",
       "      <td>poor</td>\n",
       "      <td>no</td>\n",
       "      <td>yes</td>\n",
       "      <td>ckd</td>\n",
       "    </tr>\n",
       "    <tr>\n",
       "      <th>3</th>\n",
       "      <td>3</td>\n",
       "      <td>48.0</td>\n",
       "      <td>70.0</td>\n",
       "      <td>1.005</td>\n",
       "      <td>4.0</td>\n",
       "      <td>0.0</td>\n",
       "      <td>normal</td>\n",
       "      <td>abnormal</td>\n",
       "      <td>present</td>\n",
       "      <td>notpresent</td>\n",
       "      <td>...</td>\n",
       "      <td>32</td>\n",
       "      <td>6700</td>\n",
       "      <td>3.9</td>\n",
       "      <td>yes</td>\n",
       "      <td>no</td>\n",
       "      <td>no</td>\n",
       "      <td>poor</td>\n",
       "      <td>yes</td>\n",
       "      <td>yes</td>\n",
       "      <td>ckd</td>\n",
       "    </tr>\n",
       "    <tr>\n",
       "      <th>4</th>\n",
       "      <td>4</td>\n",
       "      <td>51.0</td>\n",
       "      <td>80.0</td>\n",
       "      <td>1.010</td>\n",
       "      <td>2.0</td>\n",
       "      <td>0.0</td>\n",
       "      <td>normal</td>\n",
       "      <td>normal</td>\n",
       "      <td>notpresent</td>\n",
       "      <td>notpresent</td>\n",
       "      <td>...</td>\n",
       "      <td>35</td>\n",
       "      <td>7300</td>\n",
       "      <td>4.6</td>\n",
       "      <td>no</td>\n",
       "      <td>no</td>\n",
       "      <td>no</td>\n",
       "      <td>good</td>\n",
       "      <td>no</td>\n",
       "      <td>no</td>\n",
       "      <td>ckd</td>\n",
       "    </tr>\n",
       "    <tr>\n",
       "      <th>5</th>\n",
       "      <td>5</td>\n",
       "      <td>60.0</td>\n",
       "      <td>90.0</td>\n",
       "      <td>1.015</td>\n",
       "      <td>3.0</td>\n",
       "      <td>0.0</td>\n",
       "      <td>NaN</td>\n",
       "      <td>NaN</td>\n",
       "      <td>notpresent</td>\n",
       "      <td>notpresent</td>\n",
       "      <td>...</td>\n",
       "      <td>39</td>\n",
       "      <td>7800</td>\n",
       "      <td>4.4</td>\n",
       "      <td>yes</td>\n",
       "      <td>yes</td>\n",
       "      <td>no</td>\n",
       "      <td>good</td>\n",
       "      <td>yes</td>\n",
       "      <td>no</td>\n",
       "      <td>ckd</td>\n",
       "    </tr>\n",
       "  </tbody>\n",
       "</table>\n",
       "<p>6 rows × 26 columns</p>\n",
       "</div>"
      ],
      "text/plain": [
       "   id   age    bp     sg   al   su     rbc        pc         pcc          ba  \\\n",
       "0   0  48.0  80.0  1.020  1.0  0.0     NaN    normal  notpresent  notpresent   \n",
       "1   1   7.0  50.0  1.020  4.0  0.0     NaN    normal  notpresent  notpresent   \n",
       "2   2  62.0  80.0  1.010  2.0  3.0  normal    normal  notpresent  notpresent   \n",
       "3   3  48.0  70.0  1.005  4.0  0.0  normal  abnormal     present  notpresent   \n",
       "4   4  51.0  80.0  1.010  2.0  0.0  normal    normal  notpresent  notpresent   \n",
       "5   5  60.0  90.0  1.015  3.0  0.0     NaN       NaN  notpresent  notpresent   \n",
       "\n",
       "   ...  pcv    wc   rc  htn   dm  cad appet   pe  ane classification  \n",
       "0  ...   44  7800  5.2  yes  yes   no  good   no   no            ckd  \n",
       "1  ...   38  6000  NaN   no   no   no  good   no   no            ckd  \n",
       "2  ...   31  7500  NaN   no  yes   no  poor   no  yes            ckd  \n",
       "3  ...   32  6700  3.9  yes   no   no  poor  yes  yes            ckd  \n",
       "4  ...   35  7300  4.6   no   no   no  good   no   no            ckd  \n",
       "5  ...   39  7800  4.4  yes  yes   no  good  yes   no            ckd  \n",
       "\n",
       "[6 rows x 26 columns]"
      ]
     },
     "execution_count": 11,
     "metadata": {},
     "output_type": "execute_result"
    }
   ],
   "source": [
    "# Loading the Data File\n",
    "\n",
    "kidney = pd.read_csv('kidney_disease.csv')\n",
    "kidney.head(6)"
   ]
  },
  {
   "cell_type": "markdown",
   "id": "3ca30be6-68ef-4aa4-9bc5-4ae7d6921ea1",
   "metadata": {},
   "source": [
    "> For better understanding of the Data, Here are names of attributes\n",
    "- age - age\n",
    "- bp - blood pressure\n",
    "- sg - specific gravity\n",
    "- al - albumin\n",
    "- su - sugar\n",
    "- rbc - red blood cells\n",
    "- pc - pus cell\n",
    "- pcc - pus cell clumps\n",
    "- ba - bacteria\n",
    "- bgr - blood glucose random\n",
    "- bu - blood urea\n",
    "- sc - serum creatinine\n",
    "- sod - sodium\n",
    "- pot - potassium\n",
    "- hemo - haemoglobin\n",
    "- pcv - packed cell volume\n",
    "- wc - white blood cell count\n",
    "- rc - red blood cell count\n",
    "- htn - hypertension\n",
    "- dm - diabetes mellitus\n",
    "- cad - coronary artery disease\n",
    "- appet - appetite\n",
    "- pe - pedal edema\n",
    "- ane - anemia\n",
    "- classification"
   ]
  },
  {
   "cell_type": "markdown",
   "id": "a49b0809-6fb3-44e5-b42b-54c1aacc14b3",
   "metadata": {},
   "source": [
    "### 2.2  Data Exploration"
   ]
  },
  {
   "cell_type": "code",
   "execution_count": 12,
   "id": "525b5e09-5ec7-4ba4-8cba-3bf0379e44a9",
   "metadata": {},
   "outputs": [
    {
     "name": "stdout",
     "output_type": "stream",
     "text": [
      "Index(['id', 'age', 'bp', 'sg', 'al', 'su', 'rbc', 'pc', 'pcc', 'ba', 'bgr',\n",
      "       'bu', 'sc', 'sod', 'pot', 'hemo', 'pcv', 'wc', 'rc', 'htn', 'dm', 'cad',\n",
      "       'appet', 'pe', 'ane', 'classification'],\n",
      "      dtype='object')\n",
      "--------------------------------------------------------------------------------\n",
      "               id         age          bp          sg          al          su  \\\n",
      "count  400.000000  391.000000  388.000000  353.000000  354.000000  351.000000   \n",
      "mean   199.500000   51.483376   76.469072    1.017408    1.016949    0.450142   \n",
      "std    115.614301   17.169714   13.683637    0.005717    1.352679    1.099191   \n",
      "min      0.000000    2.000000   50.000000    1.005000    0.000000    0.000000   \n",
      "25%     99.750000   42.000000   70.000000    1.010000    0.000000    0.000000   \n",
      "50%    199.500000   55.000000   80.000000    1.020000    0.000000    0.000000   \n",
      "75%    299.250000   64.500000   80.000000    1.020000    2.000000    0.000000   \n",
      "max    399.000000   90.000000  180.000000    1.025000    5.000000    5.000000   \n",
      "\n",
      "              bgr          bu          sc         sod         pot        hemo  \n",
      "count  356.000000  381.000000  383.000000  313.000000  312.000000  348.000000  \n",
      "mean   148.036517   57.425722    3.072454  137.528754    4.627244   12.526437  \n",
      "std     79.281714   50.503006    5.741126   10.408752    3.193904    2.912587  \n",
      "min     22.000000    1.500000    0.400000    4.500000    2.500000    3.100000  \n",
      "25%     99.000000   27.000000    0.900000  135.000000    3.800000   10.300000  \n",
      "50%    121.000000   42.000000    1.300000  138.000000    4.400000   12.650000  \n",
      "75%    163.000000   66.000000    2.800000  142.000000    4.900000   15.000000  \n",
      "max    490.000000  391.000000   76.000000  163.000000   47.000000   17.800000  \n",
      "---------------------------------------------------------------------------------\n",
      "<class 'pandas.core.frame.DataFrame'>\n",
      "RangeIndex: 400 entries, 0 to 399\n",
      "Data columns (total 26 columns):\n",
      " #   Column          Non-Null Count  Dtype  \n",
      "---  ------          --------------  -----  \n",
      " 0   id              400 non-null    int64  \n",
      " 1   age             391 non-null    float64\n",
      " 2   bp              388 non-null    float64\n",
      " 3   sg              353 non-null    float64\n",
      " 4   al              354 non-null    float64\n",
      " 5   su              351 non-null    float64\n",
      " 6   rbc             248 non-null    object \n",
      " 7   pc              335 non-null    object \n",
      " 8   pcc             396 non-null    object \n",
      " 9   ba              396 non-null    object \n",
      " 10  bgr             356 non-null    float64\n",
      " 11  bu              381 non-null    float64\n",
      " 12  sc              383 non-null    float64\n",
      " 13  sod             313 non-null    float64\n",
      " 14  pot             312 non-null    float64\n",
      " 15  hemo            348 non-null    float64\n",
      " 16  pcv             330 non-null    object \n",
      " 17  wc              295 non-null    object \n",
      " 18  rc              270 non-null    object \n",
      " 19  htn             398 non-null    object \n",
      " 20  dm              398 non-null    object \n",
      " 21  cad             398 non-null    object \n",
      " 22  appet           399 non-null    object \n",
      " 23  pe              399 non-null    object \n",
      " 24  ane             399 non-null    object \n",
      " 25  classification  400 non-null    object \n",
      "dtypes: float64(11), int64(1), object(14)\n",
      "memory usage: 81.4+ KB\n",
      "None\n"
     ]
    }
   ],
   "source": [
    "# Explore the dataset\n",
    "print(kidney.columns)\n",
    "print(\"--------------------------------------------------------------------------------\")\n",
    "print(kidney.describe())\n",
    "print(\"---------------------------------------------------------------------------------\")\n",
    "print(kidney.info())"
   ]
  },
  {
   "cell_type": "markdown",
   "id": "f48280fe-60fe-4844-b36b-0b798761b2da",
   "metadata": {},
   "source": [
    "### 2.3 Describe the Data"
   ]
  },
  {
   "cell_type": "code",
   "execution_count": 13,
   "id": "15a5da1e-9f2a-441c-b751-1a7ab0d940e5",
   "metadata": {},
   "outputs": [
    {
     "data": {
      "text/html": [
       "<div>\n",
       "<style scoped>\n",
       "    .dataframe tbody tr th:only-of-type {\n",
       "        vertical-align: middle;\n",
       "    }\n",
       "\n",
       "    .dataframe tbody tr th {\n",
       "        vertical-align: top;\n",
       "    }\n",
       "\n",
       "    .dataframe thead th {\n",
       "        text-align: right;\n",
       "    }\n",
       "</style>\n",
       "<table border=\"1\" class=\"dataframe\">\n",
       "  <thead>\n",
       "    <tr style=\"text-align: right;\">\n",
       "      <th></th>\n",
       "      <th>count</th>\n",
       "      <th>mean</th>\n",
       "      <th>std</th>\n",
       "      <th>min</th>\n",
       "      <th>25%</th>\n",
       "      <th>50%</th>\n",
       "      <th>75%</th>\n",
       "      <th>max</th>\n",
       "    </tr>\n",
       "  </thead>\n",
       "  <tbody>\n",
       "    <tr>\n",
       "      <th>id</th>\n",
       "      <td>400.0</td>\n",
       "      <td>199.500000</td>\n",
       "      <td>115.614301</td>\n",
       "      <td>0.000</td>\n",
       "      <td>99.75</td>\n",
       "      <td>199.50</td>\n",
       "      <td>299.25</td>\n",
       "      <td>399.000</td>\n",
       "    </tr>\n",
       "    <tr>\n",
       "      <th>age</th>\n",
       "      <td>391.0</td>\n",
       "      <td>51.483376</td>\n",
       "      <td>17.169714</td>\n",
       "      <td>2.000</td>\n",
       "      <td>42.00</td>\n",
       "      <td>55.00</td>\n",
       "      <td>64.50</td>\n",
       "      <td>90.000</td>\n",
       "    </tr>\n",
       "    <tr>\n",
       "      <th>bp</th>\n",
       "      <td>388.0</td>\n",
       "      <td>76.469072</td>\n",
       "      <td>13.683637</td>\n",
       "      <td>50.000</td>\n",
       "      <td>70.00</td>\n",
       "      <td>80.00</td>\n",
       "      <td>80.00</td>\n",
       "      <td>180.000</td>\n",
       "    </tr>\n",
       "    <tr>\n",
       "      <th>sg</th>\n",
       "      <td>353.0</td>\n",
       "      <td>1.017408</td>\n",
       "      <td>0.005717</td>\n",
       "      <td>1.005</td>\n",
       "      <td>1.01</td>\n",
       "      <td>1.02</td>\n",
       "      <td>1.02</td>\n",
       "      <td>1.025</td>\n",
       "    </tr>\n",
       "    <tr>\n",
       "      <th>al</th>\n",
       "      <td>354.0</td>\n",
       "      <td>1.016949</td>\n",
       "      <td>1.352679</td>\n",
       "      <td>0.000</td>\n",
       "      <td>0.00</td>\n",
       "      <td>0.00</td>\n",
       "      <td>2.00</td>\n",
       "      <td>5.000</td>\n",
       "    </tr>\n",
       "    <tr>\n",
       "      <th>su</th>\n",
       "      <td>351.0</td>\n",
       "      <td>0.450142</td>\n",
       "      <td>1.099191</td>\n",
       "      <td>0.000</td>\n",
       "      <td>0.00</td>\n",
       "      <td>0.00</td>\n",
       "      <td>0.00</td>\n",
       "      <td>5.000</td>\n",
       "    </tr>\n",
       "    <tr>\n",
       "      <th>bgr</th>\n",
       "      <td>356.0</td>\n",
       "      <td>148.036517</td>\n",
       "      <td>79.281714</td>\n",
       "      <td>22.000</td>\n",
       "      <td>99.00</td>\n",
       "      <td>121.00</td>\n",
       "      <td>163.00</td>\n",
       "      <td>490.000</td>\n",
       "    </tr>\n",
       "    <tr>\n",
       "      <th>bu</th>\n",
       "      <td>381.0</td>\n",
       "      <td>57.425722</td>\n",
       "      <td>50.503006</td>\n",
       "      <td>1.500</td>\n",
       "      <td>27.00</td>\n",
       "      <td>42.00</td>\n",
       "      <td>66.00</td>\n",
       "      <td>391.000</td>\n",
       "    </tr>\n",
       "    <tr>\n",
       "      <th>sc</th>\n",
       "      <td>383.0</td>\n",
       "      <td>3.072454</td>\n",
       "      <td>5.741126</td>\n",
       "      <td>0.400</td>\n",
       "      <td>0.90</td>\n",
       "      <td>1.30</td>\n",
       "      <td>2.80</td>\n",
       "      <td>76.000</td>\n",
       "    </tr>\n",
       "    <tr>\n",
       "      <th>sod</th>\n",
       "      <td>313.0</td>\n",
       "      <td>137.528754</td>\n",
       "      <td>10.408752</td>\n",
       "      <td>4.500</td>\n",
       "      <td>135.00</td>\n",
       "      <td>138.00</td>\n",
       "      <td>142.00</td>\n",
       "      <td>163.000</td>\n",
       "    </tr>\n",
       "    <tr>\n",
       "      <th>pot</th>\n",
       "      <td>312.0</td>\n",
       "      <td>4.627244</td>\n",
       "      <td>3.193904</td>\n",
       "      <td>2.500</td>\n",
       "      <td>3.80</td>\n",
       "      <td>4.40</td>\n",
       "      <td>4.90</td>\n",
       "      <td>47.000</td>\n",
       "    </tr>\n",
       "    <tr>\n",
       "      <th>hemo</th>\n",
       "      <td>348.0</td>\n",
       "      <td>12.526437</td>\n",
       "      <td>2.912587</td>\n",
       "      <td>3.100</td>\n",
       "      <td>10.30</td>\n",
       "      <td>12.65</td>\n",
       "      <td>15.00</td>\n",
       "      <td>17.800</td>\n",
       "    </tr>\n",
       "  </tbody>\n",
       "</table>\n",
       "</div>"
      ],
      "text/plain": [
       "      count        mean         std     min     25%     50%     75%      max\n",
       "id    400.0  199.500000  115.614301   0.000   99.75  199.50  299.25  399.000\n",
       "age   391.0   51.483376   17.169714   2.000   42.00   55.00   64.50   90.000\n",
       "bp    388.0   76.469072   13.683637  50.000   70.00   80.00   80.00  180.000\n",
       "sg    353.0    1.017408    0.005717   1.005    1.01    1.02    1.02    1.025\n",
       "al    354.0    1.016949    1.352679   0.000    0.00    0.00    2.00    5.000\n",
       "su    351.0    0.450142    1.099191   0.000    0.00    0.00    0.00    5.000\n",
       "bgr   356.0  148.036517   79.281714  22.000   99.00  121.00  163.00  490.000\n",
       "bu    381.0   57.425722   50.503006   1.500   27.00   42.00   66.00  391.000\n",
       "sc    383.0    3.072454    5.741126   0.400    0.90    1.30    2.80   76.000\n",
       "sod   313.0  137.528754   10.408752   4.500  135.00  138.00  142.00  163.000\n",
       "pot   312.0    4.627244    3.193904   2.500    3.80    4.40    4.90   47.000\n",
       "hemo  348.0   12.526437    2.912587   3.100   10.30   12.65   15.00   17.800"
      ]
     },
     "execution_count": 13,
     "metadata": {},
     "output_type": "execute_result"
    }
   ],
   "source": [
    "# Just Tranforming the Matrix, So that we can observe all the continuous columns(rows)\n",
    "kidney.describe().T"
   ]
  },
  {
   "cell_type": "markdown",
   "id": "7bac9ab5-f838-4fb9-85ca-6130d16bddb8",
   "metadata": {},
   "source": [
    "### 2.4 Performing Data Cleaning"
   ]
  },
  {
   "cell_type": "markdown",
   "id": "0a0104a4-ce06-4b4e-a267-0eeb3a999803",
   "metadata": {},
   "source": [
    ">  Here in our dataset 'classification' is the target where '0' indicates Not Chronic Kidney Disease and '1' indicates CKD Chronic Kidney Disease\n"
   ]
  },
  {
   "cell_type": "code",
   "execution_count": 14,
   "id": "1b4f988c-1058-48cf-9ae1-1154cf4712fb",
   "metadata": {},
   "outputs": [],
   "source": [
    "def convert_dtype(kidney,feature):\n",
    "    kidney[feature]=pd.to_numeric(kidney[feature],errors='coerce')    #whereever we have Nan values , this errors parameter will handle that"
   ]
  },
  {
   "cell_type": "code",
   "execution_count": 15,
   "id": "fdf8d1fd-8c5e-4f5b-a973-3059349cf175",
   "metadata": {},
   "outputs": [],
   "source": [
    "features=['pcv','wc','rc']\n",
    "for i in features:\n",
    "    convert_dtype(kidney,i)"
   ]
  },
  {
   "cell_type": "code",
   "execution_count": 16,
   "id": "de49ff35-0971-47d7-9a18-3639d5b28d21",
   "metadata": {},
   "outputs": [
    {
     "data": {
      "text/plain": [
       "id                  int64\n",
       "age               float64\n",
       "bp                float64\n",
       "sg                float64\n",
       "al                float64\n",
       "su                float64\n",
       "rbc                object\n",
       "pc                 object\n",
       "pcc                object\n",
       "ba                 object\n",
       "bgr               float64\n",
       "bu                float64\n",
       "sc                float64\n",
       "sod               float64\n",
       "pot               float64\n",
       "hemo              float64\n",
       "pcv               float64\n",
       "wc                float64\n",
       "rc                float64\n",
       "htn                object\n",
       "dm                 object\n",
       "cad                object\n",
       "appet              object\n",
       "pe                 object\n",
       "ane                object\n",
       "classification     object\n",
       "dtype: object"
      ]
     },
     "execution_count": 16,
     "metadata": {},
     "output_type": "execute_result"
    }
   ],
   "source": [
    "# Print the Daya Types of all the Attributes Present in the Dataset\n",
    "kidney.dtypes"
   ]
  },
  {
   "cell_type": "code",
   "execution_count": 17,
   "id": "1a5d9457-212c-42ef-9242-1836274db9dc",
   "metadata": {},
   "outputs": [],
   "source": [
    "kidney.drop('id',inplace=True,axis=1)"
   ]
  },
  {
   "cell_type": "markdown",
   "id": "d89adc51-4b0f-42aa-8079-d65d0eb60ffc",
   "metadata": {},
   "source": [
    "> Differntiating Categorical observations and Numerical observations for better understanding and for easy, good analysis"
   ]
  },
  {
   "cell_type": "code",
   "execution_count": 18,
   "id": "a39822fb-117a-403d-96ad-77aec57dbb8f",
   "metadata": {},
   "outputs": [],
   "source": [
    "def extract_cat_num(kidney):\n",
    "    cat_col=[col for col in kidney.columns if kidney[col].dtype=='O']\n",
    "    num_col=[col for col in kidney.columns if kidney[col].dtype!='O']\n",
    "    return cat_col,num_col"
   ]
  },
  {
   "cell_type": "code",
   "execution_count": 19,
   "id": "d6833ebb-17b4-4aff-bef8-c209b617b1d4",
   "metadata": {},
   "outputs": [],
   "source": [
    "cat_col,num_col=extract_cat_num(kidney)"
   ]
  },
  {
   "cell_type": "markdown",
   "id": "fb501f82-ba03-45f0-8c77-9e4ff0f8da20",
   "metadata": {},
   "source": [
    "> Printing categorical columns and Numerical columns"
   ]
  },
  {
   "cell_type": "code",
   "execution_count": 20,
   "id": "5115ba28-5e68-4e54-abe3-f7f78afc81fe",
   "metadata": {},
   "outputs": [
    {
     "data": {
      "text/plain": [
       "['rbc',\n",
       " 'pc',\n",
       " 'pcc',\n",
       " 'ba',\n",
       " 'htn',\n",
       " 'dm',\n",
       " 'cad',\n",
       " 'appet',\n",
       " 'pe',\n",
       " 'ane',\n",
       " 'classification']"
      ]
     },
     "execution_count": 20,
     "metadata": {},
     "output_type": "execute_result"
    }
   ],
   "source": [
    "cat_col"
   ]
  },
  {
   "cell_type": "code",
   "execution_count": 21,
   "id": "df92a319-aa90-4155-9912-a821e021b177",
   "metadata": {},
   "outputs": [
    {
     "data": {
      "text/plain": [
       "['age',\n",
       " 'bp',\n",
       " 'sg',\n",
       " 'al',\n",
       " 'su',\n",
       " 'bgr',\n",
       " 'bu',\n",
       " 'sc',\n",
       " 'sod',\n",
       " 'pot',\n",
       " 'hemo',\n",
       " 'pcv',\n",
       " 'wc',\n",
       " 'rc']"
      ]
     },
     "execution_count": 21,
     "metadata": {},
     "output_type": "execute_result"
    }
   ],
   "source": [
    "num_col"
   ]
  },
  {
   "cell_type": "markdown",
   "id": "52126c10-88d7-4a5b-8aac-75493969f9ed",
   "metadata": {},
   "source": [
    "> There is some dirtiness in categorical Data, To fix that Lets do this - First print the values and manipulate"
   ]
  },
  {
   "cell_type": "code",
   "execution_count": 22,
   "id": "8b12fa5b-9c09-4807-9e7f-34d8d1e856e1",
   "metadata": {},
   "outputs": [
    {
     "name": "stdout",
     "output_type": "stream",
     "text": [
      "rbc has [nan 'normal' 'abnormal'] values\n",
      "\n",
      "\n",
      "pc has ['normal' 'abnormal' nan] values\n",
      "\n",
      "\n",
      "pcc has ['notpresent' 'present' nan] values\n",
      "\n",
      "\n",
      "ba has ['notpresent' 'present' nan] values\n",
      "\n",
      "\n",
      "htn has ['yes' 'no' nan] values\n",
      "\n",
      "\n",
      "dm has ['yes' 'no' ' yes' '\\tno' '\\tyes' nan] values\n",
      "\n",
      "\n",
      "cad has ['no' 'yes' '\\tno' nan] values\n",
      "\n",
      "\n",
      "appet has ['good' 'poor' nan] values\n",
      "\n",
      "\n",
      "pe has ['no' 'yes' nan] values\n",
      "\n",
      "\n",
      "ane has ['no' 'yes' nan] values\n",
      "\n",
      "\n",
      "classification has ['ckd' 'ckd\\t' 'notckd'] values\n",
      "\n",
      "\n"
     ]
    }
   ],
   "source": [
    "for col in cat_col:\n",
    "    print('{} has {} values'.format(col,kidney[col].unique()))\n",
    "    print(\"\\n\")"
   ]
  },
  {
   "cell_type": "markdown",
   "id": "f23349fb-3133-4ef4-aba6-4deeec5541c8",
   "metadata": {},
   "source": [
    "> From the above output we can see some '\\t' are present in few categorical columns\n",
    "\n",
    "> Lets Replace them Accordingly!!!!!!!!!!!!"
   ]
  },
  {
   "cell_type": "code",
   "execution_count": 23,
   "id": "e7872f80-ce4f-41f8-aa47-2fcad71f09ec",
   "metadata": {},
   "outputs": [],
   "source": [
    "kidney['dm'].replace(to_replace={'\\tno':'no','\\tyes':'yes'},inplace=True)\n",
    "kidney['cad'].replace(to_replace={'\\tno':'no'},inplace=True)\n",
    "kidney['classification'].replace(to_replace={'ckd\\t':'ckd'},inplace=True)"
   ]
  },
  {
   "cell_type": "code",
   "execution_count": 24,
   "id": "7ffd7fb8-32ce-424f-a8a3-e8df12ccc26a",
   "metadata": {},
   "outputs": [
    {
     "name": "stdout",
     "output_type": "stream",
     "text": [
      "rbc has [nan 'normal' 'abnormal'] values\n",
      "\n",
      "\n",
      "pc has ['normal' 'abnormal' nan] values\n",
      "\n",
      "\n",
      "pcc has ['notpresent' 'present' nan] values\n",
      "\n",
      "\n",
      "ba has ['notpresent' 'present' nan] values\n",
      "\n",
      "\n",
      "htn has ['yes' 'no' nan] values\n",
      "\n",
      "\n",
      "dm has ['yes' 'no' ' yes' nan] values\n",
      "\n",
      "\n",
      "cad has ['no' 'yes' nan] values\n",
      "\n",
      "\n",
      "appet has ['good' 'poor' nan] values\n",
      "\n",
      "\n",
      "pe has ['no' 'yes' nan] values\n",
      "\n",
      "\n",
      "ane has ['no' 'yes' nan] values\n",
      "\n",
      "\n",
      "classification has ['ckd' 'notckd'] values\n",
      "\n",
      "\n"
     ]
    }
   ],
   "source": [
    "# no dirtiness\n",
    "for col in cat_col:\n",
    "    print('{} has {} values'.format(col,kidney[col].unique()))\n",
    "    print(\"\\n\")"
   ]
  },
  {
   "cell_type": "markdown",
   "id": "3a308237-c801-45df-8e5e-449a0f4e2d60",
   "metadata": {},
   "source": [
    "### 2.5 Handling Missing Values"
   ]
  },
  {
   "cell_type": "markdown",
   "id": "b512e53d-e08c-4604-bb08-686e249788dd",
   "metadata": {},
   "source": [
    "> Why Should We Care About Handling Missing Value?\n",
    "\n",
    "> If the missing values are not handled properly, you risk creating a biased machine learning model that returns false results.\n",
    "\n",
    "> Lack of precision in the statistical analysis can result from missing data."
   ]
  },
  {
   "cell_type": "code",
   "execution_count": 25,
   "id": "c0d9eaa3-ed9f-4b2f-8d96-27edc457a0b9",
   "metadata": {},
   "outputs": [
    {
     "data": {
      "text/plain": [
       "rbc               152\n",
       "rc                131\n",
       "wc                106\n",
       "pot                88\n",
       "sod                87\n",
       "pcv                71\n",
       "pc                 65\n",
       "hemo               52\n",
       "su                 49\n",
       "sg                 47\n",
       "al                 46\n",
       "bgr                44\n",
       "bu                 19\n",
       "sc                 17\n",
       "bp                 12\n",
       "age                 9\n",
       "ba                  4\n",
       "pcc                 4\n",
       "htn                 2\n",
       "dm                  2\n",
       "cad                 2\n",
       "appet               1\n",
       "pe                  1\n",
       "ane                 1\n",
       "classification      0\n",
       "dtype: int64"
      ]
     },
     "execution_count": 25,
     "metadata": {},
     "output_type": "execute_result"
    }
   ],
   "source": [
    "kidney.isnull().sum().sort_values(ascending=False)"
   ]
  },
  {
   "cell_type": "code",
   "execution_count": 26,
   "id": "dc8b4d27-184a-4cb0-87b9-5ce35f49c0fa",
   "metadata": {},
   "outputs": [
    {
     "data": {
      "text/plain": [
       "[(0, 'rbc'),\n",
       " (1, 'pc'),\n",
       " (2, 'pcc'),\n",
       " (3, 'ba'),\n",
       " (4, 'htn'),\n",
       " (5, 'dm'),\n",
       " (6, 'cad'),\n",
       " (7, 'appet'),\n",
       " (8, 'pe'),\n",
       " (9, 'ane'),\n",
       " (10, 'classification')]"
      ]
     },
     "execution_count": 26,
     "metadata": {},
     "output_type": "execute_result"
    }
   ],
   "source": [
    "list(enumerate(cat_col))"
   ]
  },
  {
   "cell_type": "code",
   "execution_count": 27,
   "id": "bb84c6cc-866d-48ac-b008-78b77cdfab9a",
   "metadata": {},
   "outputs": [
    {
     "data": {
      "text/plain": [
       "age       51.483376\n",
       "bp        76.469072\n",
       "sg         1.017408\n",
       "al         1.016949\n",
       "su         0.450142\n",
       "bgr      148.036517\n",
       "bu        57.425722\n",
       "sc         3.072454\n",
       "sod      137.528754\n",
       "pot        4.627244\n",
       "hemo      12.526437\n",
       "pcv       38.884498\n",
       "wc      8406.122449\n",
       "rc         4.707435\n",
       "dtype: float64"
      ]
     },
     "execution_count": 27,
     "metadata": {},
     "output_type": "execute_result"
    }
   ],
   "source": [
    "np.mean(kidney)"
   ]
  },
  {
   "cell_type": "markdown",
   "id": "f024ef5e-95d4-4bbc-813a-ed6c581e1ace",
   "metadata": {},
   "source": [
    "> Filling few num_col with median"
   ]
  },
  {
   "cell_type": "code",
   "execution_count": 28,
   "id": "4001aa20-85d0-4ead-93fc-f422fb36e34f",
   "metadata": {},
   "outputs": [
    {
     "data": {
      "text/plain": [
       "age                 0\n",
       "bp                  0\n",
       "sg                  0\n",
       "al                  0\n",
       "su                  0\n",
       "rbc               152\n",
       "pc                 65\n",
       "pcc                 4\n",
       "ba                  4\n",
       "bgr                 0\n",
       "bu                  0\n",
       "sc                  0\n",
       "sod                 0\n",
       "pot                 0\n",
       "hemo                0\n",
       "pcv                 0\n",
       "wc                  0\n",
       "rc                  0\n",
       "htn                 2\n",
       "dm                  2\n",
       "cad                 2\n",
       "appet               1\n",
       "pe                  1\n",
       "ane                 1\n",
       "classification      0\n",
       "dtype: int64"
      ]
     },
     "execution_count": 28,
     "metadata": {},
     "output_type": "execute_result"
    }
   ],
   "source": [
    "for i in num_col:\n",
    "    kidney[i].fillna(kidney[i].median(),inplace=True)\n",
    "kidney.isnull().sum()"
   ]
  },
  {
   "cell_type": "markdown",
   "id": "1e07d88d-2875-4527-a642-c3f42cf48326",
   "metadata": {},
   "source": [
    "#### 2.5.1 Filling missing values in categorical columns using random values"
   ]
  },
  {
   "cell_type": "code",
   "execution_count": 29,
   "id": "8596d8d2-b901-45b8-8637-15d265a4ba52",
   "metadata": {},
   "outputs": [
    {
     "data": {
      "text/plain": [
       "152"
      ]
     },
     "execution_count": 29,
     "metadata": {},
     "output_type": "execute_result"
    }
   ],
   "source": [
    "kidney['rbc'].isnull().sum()"
   ]
  },
  {
   "cell_type": "code",
   "execution_count": 30,
   "id": "b2be1e9d-799b-4a50-98b2-2442e2a21d5b",
   "metadata": {},
   "outputs": [
    {
     "data": {
      "text/plain": [
       "11     abnormal\n",
       "337      normal\n",
       "363      normal\n",
       "369      normal\n",
       "181      normal\n",
       "         ...   \n",
       "33     abnormal\n",
       "267      normal\n",
       "347      normal\n",
       "306      normal\n",
       "103      normal\n",
       "Name: rbc, Length: 152, dtype: object"
      ]
     },
     "execution_count": 30,
     "metadata": {},
     "output_type": "execute_result"
    }
   ],
   "source": [
    "random_sample=kidney['rbc'].dropna().sample(152)\n",
    "random_sample"
   ]
  },
  {
   "cell_type": "code",
   "execution_count": 31,
   "id": "9726836e-ec03-4562-9a4f-584ae6db8e03",
   "metadata": {},
   "outputs": [
    {
     "data": {
      "text/plain": [
       "Int64Index([  0,   1,   5,   6,  10,  12,  13,  15,  16,  17,\n",
       "            ...\n",
       "            245, 268, 280, 290, 295, 309, 322, 349, 350, 381],\n",
       "           dtype='int64', length=152)"
      ]
     },
     "execution_count": 31,
     "metadata": {},
     "output_type": "execute_result"
    }
   ],
   "source": [
    "kidney[kidney['rbc'].isnull()].index"
   ]
  },
  {
   "cell_type": "code",
   "execution_count": 32,
   "id": "abd2e3a1-3b21-47a2-a838-f638b88f30b9",
   "metadata": {},
   "outputs": [
    {
     "data": {
      "text/plain": [
       "Int64Index([ 11, 337, 363, 369, 181,  40, 239, 128, 154, 384,\n",
       "            ...\n",
       "            150, 167, 246, 221, 376,  33, 267, 347, 306, 103],\n",
       "           dtype='int64', length=152)"
      ]
     },
     "execution_count": 32,
     "metadata": {},
     "output_type": "execute_result"
    }
   ],
   "source": [
    "random_sample.index"
   ]
  },
  {
   "cell_type": "code",
   "execution_count": 33,
   "id": "5dd04f8a-724e-40dd-84c2-24e2fbc7dbe5",
   "metadata": {},
   "outputs": [],
   "source": [
    "random_sample.index=kidney[kidney['rbc'].isnull()].index   "
   ]
  },
  {
   "cell_type": "code",
   "execution_count": 34,
   "id": "e5eb1286-442b-4fe3-9ee6-b0cf77c3f162",
   "metadata": {},
   "outputs": [
    {
     "data": {
      "text/plain": [
       "Int64Index([  0,   1,   5,   6,  10,  12,  13,  15,  16,  17,\n",
       "            ...\n",
       "            245, 268, 280, 290, 295, 309, 322, 349, 350, 381],\n",
       "           dtype='int64', length=152)"
      ]
     },
     "execution_count": 34,
     "metadata": {},
     "output_type": "execute_result"
    }
   ],
   "source": [
    "random_sample.index"
   ]
  },
  {
   "cell_type": "code",
   "execution_count": 35,
   "id": "bf24a474-e944-4989-9098-4f700401c43e",
   "metadata": {},
   "outputs": [
    {
     "data": {
      "text/html": [
       "<div>\n",
       "<style scoped>\n",
       "    .dataframe tbody tr th:only-of-type {\n",
       "        vertical-align: middle;\n",
       "    }\n",
       "\n",
       "    .dataframe tbody tr th {\n",
       "        vertical-align: top;\n",
       "    }\n",
       "\n",
       "    .dataframe thead th {\n",
       "        text-align: right;\n",
       "    }\n",
       "</style>\n",
       "<table border=\"1\" class=\"dataframe\">\n",
       "  <thead>\n",
       "    <tr style=\"text-align: right;\">\n",
       "      <th></th>\n",
       "      <th>age</th>\n",
       "      <th>bp</th>\n",
       "      <th>sg</th>\n",
       "      <th>al</th>\n",
       "      <th>su</th>\n",
       "      <th>rbc</th>\n",
       "      <th>pc</th>\n",
       "      <th>pcc</th>\n",
       "      <th>ba</th>\n",
       "      <th>bgr</th>\n",
       "      <th>...</th>\n",
       "      <th>pcv</th>\n",
       "      <th>wc</th>\n",
       "      <th>rc</th>\n",
       "      <th>htn</th>\n",
       "      <th>dm</th>\n",
       "      <th>cad</th>\n",
       "      <th>appet</th>\n",
       "      <th>pe</th>\n",
       "      <th>ane</th>\n",
       "      <th>classification</th>\n",
       "    </tr>\n",
       "  </thead>\n",
       "  <tbody>\n",
       "    <tr>\n",
       "      <th>0</th>\n",
       "      <td>48.0</td>\n",
       "      <td>80.0</td>\n",
       "      <td>1.020</td>\n",
       "      <td>1.0</td>\n",
       "      <td>0.0</td>\n",
       "      <td>abnormal</td>\n",
       "      <td>normal</td>\n",
       "      <td>notpresent</td>\n",
       "      <td>notpresent</td>\n",
       "      <td>121.0</td>\n",
       "      <td>...</td>\n",
       "      <td>44.0</td>\n",
       "      <td>7800.0</td>\n",
       "      <td>5.2</td>\n",
       "      <td>yes</td>\n",
       "      <td>yes</td>\n",
       "      <td>no</td>\n",
       "      <td>good</td>\n",
       "      <td>no</td>\n",
       "      <td>no</td>\n",
       "      <td>ckd</td>\n",
       "    </tr>\n",
       "    <tr>\n",
       "      <th>1</th>\n",
       "      <td>7.0</td>\n",
       "      <td>50.0</td>\n",
       "      <td>1.020</td>\n",
       "      <td>4.0</td>\n",
       "      <td>0.0</td>\n",
       "      <td>normal</td>\n",
       "      <td>normal</td>\n",
       "      <td>notpresent</td>\n",
       "      <td>notpresent</td>\n",
       "      <td>121.0</td>\n",
       "      <td>...</td>\n",
       "      <td>38.0</td>\n",
       "      <td>6000.0</td>\n",
       "      <td>4.8</td>\n",
       "      <td>no</td>\n",
       "      <td>no</td>\n",
       "      <td>no</td>\n",
       "      <td>good</td>\n",
       "      <td>no</td>\n",
       "      <td>no</td>\n",
       "      <td>ckd</td>\n",
       "    </tr>\n",
       "    <tr>\n",
       "      <th>2</th>\n",
       "      <td>62.0</td>\n",
       "      <td>80.0</td>\n",
       "      <td>1.010</td>\n",
       "      <td>2.0</td>\n",
       "      <td>3.0</td>\n",
       "      <td>normal</td>\n",
       "      <td>normal</td>\n",
       "      <td>notpresent</td>\n",
       "      <td>notpresent</td>\n",
       "      <td>423.0</td>\n",
       "      <td>...</td>\n",
       "      <td>31.0</td>\n",
       "      <td>7500.0</td>\n",
       "      <td>4.8</td>\n",
       "      <td>no</td>\n",
       "      <td>yes</td>\n",
       "      <td>no</td>\n",
       "      <td>poor</td>\n",
       "      <td>no</td>\n",
       "      <td>yes</td>\n",
       "      <td>ckd</td>\n",
       "    </tr>\n",
       "    <tr>\n",
       "      <th>3</th>\n",
       "      <td>48.0</td>\n",
       "      <td>70.0</td>\n",
       "      <td>1.005</td>\n",
       "      <td>4.0</td>\n",
       "      <td>0.0</td>\n",
       "      <td>normal</td>\n",
       "      <td>abnormal</td>\n",
       "      <td>present</td>\n",
       "      <td>notpresent</td>\n",
       "      <td>117.0</td>\n",
       "      <td>...</td>\n",
       "      <td>32.0</td>\n",
       "      <td>6700.0</td>\n",
       "      <td>3.9</td>\n",
       "      <td>yes</td>\n",
       "      <td>no</td>\n",
       "      <td>no</td>\n",
       "      <td>poor</td>\n",
       "      <td>yes</td>\n",
       "      <td>yes</td>\n",
       "      <td>ckd</td>\n",
       "    </tr>\n",
       "    <tr>\n",
       "      <th>4</th>\n",
       "      <td>51.0</td>\n",
       "      <td>80.0</td>\n",
       "      <td>1.010</td>\n",
       "      <td>2.0</td>\n",
       "      <td>0.0</td>\n",
       "      <td>normal</td>\n",
       "      <td>normal</td>\n",
       "      <td>notpresent</td>\n",
       "      <td>notpresent</td>\n",
       "      <td>106.0</td>\n",
       "      <td>...</td>\n",
       "      <td>35.0</td>\n",
       "      <td>7300.0</td>\n",
       "      <td>4.6</td>\n",
       "      <td>no</td>\n",
       "      <td>no</td>\n",
       "      <td>no</td>\n",
       "      <td>good</td>\n",
       "      <td>no</td>\n",
       "      <td>no</td>\n",
       "      <td>ckd</td>\n",
       "    </tr>\n",
       "  </tbody>\n",
       "</table>\n",
       "<p>5 rows × 25 columns</p>\n",
       "</div>"
      ],
      "text/plain": [
       "    age    bp     sg   al   su       rbc        pc         pcc          ba  \\\n",
       "0  48.0  80.0  1.020  1.0  0.0  abnormal    normal  notpresent  notpresent   \n",
       "1   7.0  50.0  1.020  4.0  0.0    normal    normal  notpresent  notpresent   \n",
       "2  62.0  80.0  1.010  2.0  3.0    normal    normal  notpresent  notpresent   \n",
       "3  48.0  70.0  1.005  4.0  0.0    normal  abnormal     present  notpresent   \n",
       "4  51.0  80.0  1.010  2.0  0.0    normal    normal  notpresent  notpresent   \n",
       "\n",
       "     bgr  ...   pcv      wc   rc  htn   dm  cad  appet   pe  ane  \\\n",
       "0  121.0  ...  44.0  7800.0  5.2  yes  yes   no   good   no   no   \n",
       "1  121.0  ...  38.0  6000.0  4.8   no   no   no   good   no   no   \n",
       "2  423.0  ...  31.0  7500.0  4.8   no  yes   no   poor   no  yes   \n",
       "3  117.0  ...  32.0  6700.0  3.9  yes   no   no   poor  yes  yes   \n",
       "4  106.0  ...  35.0  7300.0  4.6   no   no   no   good   no   no   \n",
       "\n",
       "  classification  \n",
       "0            ckd  \n",
       "1            ckd  \n",
       "2            ckd  \n",
       "3            ckd  \n",
       "4            ckd  \n",
       "\n",
       "[5 rows x 25 columns]"
      ]
     },
     "execution_count": 35,
     "metadata": {},
     "output_type": "execute_result"
    }
   ],
   "source": [
    "kidney.loc[kidney['rbc'].isnull(),'rbc']=random_sample\n",
    "kidney.head()"
   ]
  },
  {
   "cell_type": "code",
   "execution_count": 36,
   "id": "f3598ab6-6ac6-4707-a172-a5f17d48ee21",
   "metadata": {},
   "outputs": [
    {
     "data": {
      "text/plain": [
       "0"
      ]
     },
     "execution_count": 36,
     "metadata": {},
     "output_type": "execute_result"
    }
   ],
   "source": [
    "kidney['rbc'].isnull().sum()"
   ]
  },
  {
   "cell_type": "code",
   "execution_count": 37,
   "id": "9c0a2377-537c-4fac-93a4-21d339b1b2f8",
   "metadata": {},
   "outputs": [],
   "source": [
    "#filling random values in all categorical columns\n",
    "def Random_value_Imputation(feature):\n",
    "    random_sample=kidney[feature].dropna().sample(kidney[feature].isnull().sum())\n",
    "    random_sample.index=kidney[kidney[feature].isnull()].index\n",
    "    kidney.loc[kidney[feature].isnull(),feature]=random_sample\n",
    "Random_value_Imputation('pc')"
   ]
  },
  {
   "cell_type": "code",
   "execution_count": 38,
   "id": "392c9369-7a8c-47ec-96f6-9f4567b37271",
   "metadata": {},
   "outputs": [
    {
     "data": {
      "text/plain": [
       "age               0\n",
       "bp                0\n",
       "sg                0\n",
       "al                0\n",
       "su                0\n",
       "rbc               0\n",
       "pc                0\n",
       "pcc               4\n",
       "ba                4\n",
       "bgr               0\n",
       "bu                0\n",
       "sc                0\n",
       "sod               0\n",
       "pot               0\n",
       "hemo              0\n",
       "pcv               0\n",
       "wc                0\n",
       "rc                0\n",
       "htn               2\n",
       "dm                2\n",
       "cad               2\n",
       "appet             1\n",
       "pe                1\n",
       "ane               1\n",
       "classification    0\n",
       "dtype: int64"
      ]
     },
     "execution_count": 38,
     "metadata": {},
     "output_type": "execute_result"
    }
   ],
   "source": [
    "kidney.isnull().sum()"
   ]
  },
  {
   "cell_type": "code",
   "execution_count": 39,
   "id": "b030c124-0d65-4344-a2cc-df6c16584f5a",
   "metadata": {},
   "outputs": [],
   "source": [
    "def impute_mode(feature):\n",
    "    mode=kidney[feature].mode()[0]\n",
    "    kidney[feature]=kidney[feature].fillna(mode)"
   ]
  },
  {
   "cell_type": "code",
   "execution_count": 40,
   "id": "4831f89d-a915-478a-905b-cb8c864d6dcc",
   "metadata": {},
   "outputs": [
    {
     "data": {
      "text/plain": [
       "rbc               0\n",
       "pc                0\n",
       "pcc               0\n",
       "ba                0\n",
       "htn               0\n",
       "dm                0\n",
       "cad               0\n",
       "appet             0\n",
       "pe                0\n",
       "ane               0\n",
       "classification    0\n",
       "dtype: int64"
      ]
     },
     "execution_count": 40,
     "metadata": {},
     "output_type": "execute_result"
    }
   ],
   "source": [
    "for col in cat_col:\n",
    "    impute_mode(col)\n",
    "kidney[cat_col].isnull().sum()"
   ]
  },
  {
   "cell_type": "markdown",
   "id": "4a85df7a-68f8-4745-92a0-f887f2127565",
   "metadata": {},
   "source": [
    "> Checking null values for all columns"
   ]
  },
  {
   "cell_type": "code",
   "execution_count": 41,
   "id": "aca45000-65ed-4625-9015-de3b6a2f28a6",
   "metadata": {},
   "outputs": [
    {
     "data": {
      "text/plain": [
       "age               0\n",
       "bp                0\n",
       "sg                0\n",
       "al                0\n",
       "su                0\n",
       "rbc               0\n",
       "pc                0\n",
       "pcc               0\n",
       "ba                0\n",
       "bgr               0\n",
       "bu                0\n",
       "sc                0\n",
       "sod               0\n",
       "pot               0\n",
       "hemo              0\n",
       "pcv               0\n",
       "wc                0\n",
       "rc                0\n",
       "htn               0\n",
       "dm                0\n",
       "cad               0\n",
       "appet             0\n",
       "pe                0\n",
       "ane               0\n",
       "classification    0\n",
       "dtype: int64"
      ]
     },
     "execution_count": 41,
     "metadata": {},
     "output_type": "execute_result"
    }
   ],
   "source": [
    "kidney.isnull().sum()"
   ]
  },
  {
   "cell_type": "markdown",
   "id": "b04b28b2-5ff4-4823-bad9-911d716aa236",
   "metadata": {},
   "source": [
    "### 2.6 Performing the Feature Encoding"
   ]
  },
  {
   "cell_type": "code",
   "execution_count": 42,
   "id": "6996e474-c1a5-47bd-b2a6-3006cde5da24",
   "metadata": {},
   "outputs": [
    {
     "name": "stdout",
     "output_type": "stream",
     "text": [
      "rbc has 2 categories\n",
      "pc has 2 categories\n",
      "pcc has 2 categories\n",
      "ba has 2 categories\n",
      "htn has 2 categories\n",
      "dm has 3 categories\n",
      "cad has 2 categories\n",
      "appet has 2 categories\n",
      "pe has 2 categories\n",
      "ane has 2 categories\n",
      "classification has 2 categories\n"
     ]
    }
   ],
   "source": [
    "for col in cat_col:\n",
    "    print('{} has {} categories'.format(col,kidney[col].nunique()))"
   ]
  },
  {
   "cell_type": "code",
   "execution_count": 43,
   "id": "616da234-f4d4-49e2-b9a0-b84977f201ba",
   "metadata": {},
   "outputs": [],
   "source": [
    "from sklearn.preprocessing import LabelEncoder\n",
    "le = LabelEncoder()"
   ]
  },
  {
   "cell_type": "code",
   "execution_count": 44,
   "id": "68a5050d-1a92-4df6-b2c7-ba30a28c416c",
   "metadata": {},
   "outputs": [
    {
     "data": {
      "text/html": [
       "<div>\n",
       "<style scoped>\n",
       "    .dataframe tbody tr th:only-of-type {\n",
       "        vertical-align: middle;\n",
       "    }\n",
       "\n",
       "    .dataframe tbody tr th {\n",
       "        vertical-align: top;\n",
       "    }\n",
       "\n",
       "    .dataframe thead th {\n",
       "        text-align: right;\n",
       "    }\n",
       "</style>\n",
       "<table border=\"1\" class=\"dataframe\">\n",
       "  <thead>\n",
       "    <tr style=\"text-align: right;\">\n",
       "      <th></th>\n",
       "      <th>age</th>\n",
       "      <th>bp</th>\n",
       "      <th>sg</th>\n",
       "      <th>al</th>\n",
       "      <th>su</th>\n",
       "      <th>rbc</th>\n",
       "      <th>pc</th>\n",
       "      <th>pcc</th>\n",
       "      <th>ba</th>\n",
       "      <th>bgr</th>\n",
       "      <th>...</th>\n",
       "      <th>pcv</th>\n",
       "      <th>wc</th>\n",
       "      <th>rc</th>\n",
       "      <th>htn</th>\n",
       "      <th>dm</th>\n",
       "      <th>cad</th>\n",
       "      <th>appet</th>\n",
       "      <th>pe</th>\n",
       "      <th>ane</th>\n",
       "      <th>classification</th>\n",
       "    </tr>\n",
       "  </thead>\n",
       "  <tbody>\n",
       "    <tr>\n",
       "      <th>0</th>\n",
       "      <td>48.0</td>\n",
       "      <td>80.0</td>\n",
       "      <td>1.020</td>\n",
       "      <td>1.0</td>\n",
       "      <td>0.0</td>\n",
       "      <td>0</td>\n",
       "      <td>1</td>\n",
       "      <td>0</td>\n",
       "      <td>0</td>\n",
       "      <td>121.0</td>\n",
       "      <td>...</td>\n",
       "      <td>44.0</td>\n",
       "      <td>7800.0</td>\n",
       "      <td>5.2</td>\n",
       "      <td>1</td>\n",
       "      <td>2</td>\n",
       "      <td>0</td>\n",
       "      <td>0</td>\n",
       "      <td>0</td>\n",
       "      <td>0</td>\n",
       "      <td>0</td>\n",
       "    </tr>\n",
       "    <tr>\n",
       "      <th>1</th>\n",
       "      <td>7.0</td>\n",
       "      <td>50.0</td>\n",
       "      <td>1.020</td>\n",
       "      <td>4.0</td>\n",
       "      <td>0.0</td>\n",
       "      <td>1</td>\n",
       "      <td>1</td>\n",
       "      <td>0</td>\n",
       "      <td>0</td>\n",
       "      <td>121.0</td>\n",
       "      <td>...</td>\n",
       "      <td>38.0</td>\n",
       "      <td>6000.0</td>\n",
       "      <td>4.8</td>\n",
       "      <td>0</td>\n",
       "      <td>1</td>\n",
       "      <td>0</td>\n",
       "      <td>0</td>\n",
       "      <td>0</td>\n",
       "      <td>0</td>\n",
       "      <td>0</td>\n",
       "    </tr>\n",
       "    <tr>\n",
       "      <th>2</th>\n",
       "      <td>62.0</td>\n",
       "      <td>80.0</td>\n",
       "      <td>1.010</td>\n",
       "      <td>2.0</td>\n",
       "      <td>3.0</td>\n",
       "      <td>1</td>\n",
       "      <td>1</td>\n",
       "      <td>0</td>\n",
       "      <td>0</td>\n",
       "      <td>423.0</td>\n",
       "      <td>...</td>\n",
       "      <td>31.0</td>\n",
       "      <td>7500.0</td>\n",
       "      <td>4.8</td>\n",
       "      <td>0</td>\n",
       "      <td>2</td>\n",
       "      <td>0</td>\n",
       "      <td>1</td>\n",
       "      <td>0</td>\n",
       "      <td>1</td>\n",
       "      <td>0</td>\n",
       "    </tr>\n",
       "    <tr>\n",
       "      <th>3</th>\n",
       "      <td>48.0</td>\n",
       "      <td>70.0</td>\n",
       "      <td>1.005</td>\n",
       "      <td>4.0</td>\n",
       "      <td>0.0</td>\n",
       "      <td>1</td>\n",
       "      <td>0</td>\n",
       "      <td>1</td>\n",
       "      <td>0</td>\n",
       "      <td>117.0</td>\n",
       "      <td>...</td>\n",
       "      <td>32.0</td>\n",
       "      <td>6700.0</td>\n",
       "      <td>3.9</td>\n",
       "      <td>1</td>\n",
       "      <td>1</td>\n",
       "      <td>0</td>\n",
       "      <td>1</td>\n",
       "      <td>1</td>\n",
       "      <td>1</td>\n",
       "      <td>0</td>\n",
       "    </tr>\n",
       "    <tr>\n",
       "      <th>4</th>\n",
       "      <td>51.0</td>\n",
       "      <td>80.0</td>\n",
       "      <td>1.010</td>\n",
       "      <td>2.0</td>\n",
       "      <td>0.0</td>\n",
       "      <td>1</td>\n",
       "      <td>1</td>\n",
       "      <td>0</td>\n",
       "      <td>0</td>\n",
       "      <td>106.0</td>\n",
       "      <td>...</td>\n",
       "      <td>35.0</td>\n",
       "      <td>7300.0</td>\n",
       "      <td>4.6</td>\n",
       "      <td>0</td>\n",
       "      <td>1</td>\n",
       "      <td>0</td>\n",
       "      <td>0</td>\n",
       "      <td>0</td>\n",
       "      <td>0</td>\n",
       "      <td>0</td>\n",
       "    </tr>\n",
       "  </tbody>\n",
       "</table>\n",
       "<p>5 rows × 25 columns</p>\n",
       "</div>"
      ],
      "text/plain": [
       "    age    bp     sg   al   su  rbc  pc  pcc  ba    bgr  ...   pcv      wc  \\\n",
       "0  48.0  80.0  1.020  1.0  0.0    0   1    0   0  121.0  ...  44.0  7800.0   \n",
       "1   7.0  50.0  1.020  4.0  0.0    1   1    0   0  121.0  ...  38.0  6000.0   \n",
       "2  62.0  80.0  1.010  2.0  3.0    1   1    0   0  423.0  ...  31.0  7500.0   \n",
       "3  48.0  70.0  1.005  4.0  0.0    1   0    1   0  117.0  ...  32.0  6700.0   \n",
       "4  51.0  80.0  1.010  2.0  0.0    1   1    0   0  106.0  ...  35.0  7300.0   \n",
       "\n",
       "    rc  htn  dm  cad  appet  pe  ane  classification  \n",
       "0  5.2    1   2    0      0   0    0               0  \n",
       "1  4.8    0   1    0      0   0    0               0  \n",
       "2  4.8    0   2    0      1   0    1               0  \n",
       "3  3.9    1   1    0      1   1    1               0  \n",
       "4  4.6    0   1    0      0   0    0               0  \n",
       "\n",
       "[5 rows x 25 columns]"
      ]
     },
     "execution_count": 44,
     "metadata": {},
     "output_type": "execute_result"
    }
   ],
   "source": [
    "for col in cat_col:\n",
    "    kidney[col]=le.fit_transform(kidney[col])\n",
    "kidney.head()"
   ]
  },
  {
   "cell_type": "markdown",
   "id": "5a35c184-8700-4e4e-b2e9-98f7e0dbd5c2",
   "metadata": {},
   "source": [
    "### 2.7 Correlation between the Target variable and all the independent variables\n",
    "The below bargraph depicts the relation between all the individual independaent variables and target variable where direct bilirubin has much impact followed by total_bilirubin and total protiens has the least ."
   ]
  },
  {
   "cell_type": "code",
   "execution_count": 45,
   "id": "282fc022-9efa-4648-a0e4-88d33643faa9",
   "metadata": {},
   "outputs": [
    {
     "data": {
      "text/plain": [
       "14"
      ]
     },
     "execution_count": 45,
     "metadata": {},
     "output_type": "execute_result"
    }
   ],
   "source": [
    "len(num_col)"
   ]
  },
  {
   "cell_type": "code",
   "execution_count": 46,
   "id": "06999a8a-385f-4e2c-b014-18917b9e119e",
   "metadata": {},
   "outputs": [
    {
     "data": {
      "text/html": [
       "<div>\n",
       "<style scoped>\n",
       "    .dataframe tbody tr th:only-of-type {\n",
       "        vertical-align: middle;\n",
       "    }\n",
       "\n",
       "    .dataframe tbody tr th {\n",
       "        vertical-align: top;\n",
       "    }\n",
       "\n",
       "    .dataframe thead th {\n",
       "        text-align: right;\n",
       "    }\n",
       "</style>\n",
       "<table border=\"1\" class=\"dataframe\">\n",
       "  <thead>\n",
       "    <tr style=\"text-align: right;\">\n",
       "      <th></th>\n",
       "      <th>age</th>\n",
       "      <th>bp</th>\n",
       "      <th>sg</th>\n",
       "      <th>al</th>\n",
       "      <th>su</th>\n",
       "      <th>rbc</th>\n",
       "      <th>pc</th>\n",
       "      <th>pcc</th>\n",
       "      <th>ba</th>\n",
       "      <th>bgr</th>\n",
       "      <th>...</th>\n",
       "      <th>pcv</th>\n",
       "      <th>wc</th>\n",
       "      <th>rc</th>\n",
       "      <th>htn</th>\n",
       "      <th>dm</th>\n",
       "      <th>cad</th>\n",
       "      <th>appet</th>\n",
       "      <th>pe</th>\n",
       "      <th>ane</th>\n",
       "      <th>classification</th>\n",
       "    </tr>\n",
       "  </thead>\n",
       "  <tbody>\n",
       "    <tr>\n",
       "      <th>age</th>\n",
       "      <td>1.000000</td>\n",
       "      <td>0.136316</td>\n",
       "      <td>-0.160374</td>\n",
       "      <td>0.085918</td>\n",
       "      <td>0.186750</td>\n",
       "      <td>-0.061634</td>\n",
       "      <td>-0.113214</td>\n",
       "      <td>0.157401</td>\n",
       "      <td>0.042427</td>\n",
       "      <td>0.230731</td>\n",
       "      <td>...</td>\n",
       "      <td>-0.212796</td>\n",
       "      <td>0.093794</td>\n",
       "      <td>-0.203199</td>\n",
       "      <td>0.395073</td>\n",
       "      <td>0.359467</td>\n",
       "      <td>0.231419</td>\n",
       "      <td>0.156581</td>\n",
       "      <td>0.094772</td>\n",
       "      <td>0.052938</td>\n",
       "      <td>-0.227842</td>\n",
       "    </tr>\n",
       "    <tr>\n",
       "      <th>bp</th>\n",
       "      <td>0.136316</td>\n",
       "      <td>1.000000</td>\n",
       "      <td>-0.166980</td>\n",
       "      <td>0.123518</td>\n",
       "      <td>0.189561</td>\n",
       "      <td>-0.188020</td>\n",
       "      <td>-0.156574</td>\n",
       "      <td>0.056808</td>\n",
       "      <td>0.110164</td>\n",
       "      <td>0.150180</td>\n",
       "      <td>...</td>\n",
       "      <td>-0.289237</td>\n",
       "      <td>0.022177</td>\n",
       "      <td>-0.219317</td>\n",
       "      <td>0.266901</td>\n",
       "      <td>0.229902</td>\n",
       "      <td>0.084135</td>\n",
       "      <td>0.175054</td>\n",
       "      <td>0.056902</td>\n",
       "      <td>0.195134</td>\n",
       "      <td>-0.293693</td>\n",
       "    </tr>\n",
       "    <tr>\n",
       "      <th>sg</th>\n",
       "      <td>-0.160374</td>\n",
       "      <td>-0.166980</td>\n",
       "      <td>1.000000</td>\n",
       "      <td>-0.479962</td>\n",
       "      <td>-0.292053</td>\n",
       "      <td>0.244053</td>\n",
       "      <td>0.322412</td>\n",
       "      <td>-0.306426</td>\n",
       "      <td>-0.231704</td>\n",
       "      <td>-0.299413</td>\n",
       "      <td>...</td>\n",
       "      <td>0.496434</td>\n",
       "      <td>-0.195068</td>\n",
       "      <td>0.432222</td>\n",
       "      <td>-0.323643</td>\n",
       "      <td>-0.352804</td>\n",
       "      <td>-0.135814</td>\n",
       "      <td>-0.230975</td>\n",
       "      <td>-0.253803</td>\n",
       "      <td>-0.184155</td>\n",
       "      <td>0.659504</td>\n",
       "    </tr>\n",
       "    <tr>\n",
       "      <th>al</th>\n",
       "      <td>0.085918</td>\n",
       "      <td>0.123518</td>\n",
       "      <td>-0.479962</td>\n",
       "      <td>1.000000</td>\n",
       "      <td>0.287751</td>\n",
       "      <td>-0.321062</td>\n",
       "      <td>-0.481051</td>\n",
       "      <td>0.417868</td>\n",
       "      <td>0.377935</td>\n",
       "      <td>0.293150</td>\n",
       "      <td>...</td>\n",
       "      <td>-0.473446</td>\n",
       "      <td>0.202920</td>\n",
       "      <td>-0.405092</td>\n",
       "      <td>0.406057</td>\n",
       "      <td>0.312978</td>\n",
       "      <td>0.200957</td>\n",
       "      <td>0.303145</td>\n",
       "      <td>0.411080</td>\n",
       "      <td>0.229556</td>\n",
       "      <td>-0.531562</td>\n",
       "    </tr>\n",
       "    <tr>\n",
       "      <th>su</th>\n",
       "      <td>0.186750</td>\n",
       "      <td>0.189561</td>\n",
       "      <td>-0.292053</td>\n",
       "      <td>0.287751</td>\n",
       "      <td>1.000000</td>\n",
       "      <td>-0.072953</td>\n",
       "      <td>-0.181066</td>\n",
       "      <td>0.168091</td>\n",
       "      <td>0.119399</td>\n",
       "      <td>0.627002</td>\n",
       "      <td>...</td>\n",
       "      <td>-0.181285</td>\n",
       "      <td>0.156649</td>\n",
       "      <td>-0.161994</td>\n",
       "      <td>0.254268</td>\n",
       "      <td>0.431277</td>\n",
       "      <td>0.229301</td>\n",
       "      <td>0.069216</td>\n",
       "      <td>0.116442</td>\n",
       "      <td>0.042464</td>\n",
       "      <td>-0.294555</td>\n",
       "    </tr>\n",
       "    <tr>\n",
       "      <th>rbc</th>\n",
       "      <td>-0.061634</td>\n",
       "      <td>-0.188020</td>\n",
       "      <td>0.244053</td>\n",
       "      <td>-0.321062</td>\n",
       "      <td>-0.072953</td>\n",
       "      <td>1.000000</td>\n",
       "      <td>0.229181</td>\n",
       "      <td>-0.088840</td>\n",
       "      <td>-0.110987</td>\n",
       "      <td>-0.144874</td>\n",
       "      <td>...</td>\n",
       "      <td>0.244916</td>\n",
       "      <td>0.033611</td>\n",
       "      <td>0.181520</td>\n",
       "      <td>-0.184354</td>\n",
       "      <td>-0.202329</td>\n",
       "      <td>-0.131823</td>\n",
       "      <td>-0.092979</td>\n",
       "      <td>-0.195957</td>\n",
       "      <td>-0.070321</td>\n",
       "      <td>0.329151</td>\n",
       "    </tr>\n",
       "    <tr>\n",
       "      <th>pc</th>\n",
       "      <td>-0.113214</td>\n",
       "      <td>-0.156574</td>\n",
       "      <td>0.322412</td>\n",
       "      <td>-0.481051</td>\n",
       "      <td>-0.181066</td>\n",
       "      <td>0.229181</td>\n",
       "      <td>1.000000</td>\n",
       "      <td>-0.452299</td>\n",
       "      <td>-0.285070</td>\n",
       "      <td>-0.215699</td>\n",
       "      <td>...</td>\n",
       "      <td>0.409246</td>\n",
       "      <td>-0.105902</td>\n",
       "      <td>0.367392</td>\n",
       "      <td>-0.335028</td>\n",
       "      <td>-0.223030</td>\n",
       "      <td>-0.131643</td>\n",
       "      <td>-0.266936</td>\n",
       "      <td>-0.356163</td>\n",
       "      <td>-0.319431</td>\n",
       "      <td>0.398803</td>\n",
       "    </tr>\n",
       "    <tr>\n",
       "      <th>pcc</th>\n",
       "      <td>0.157401</td>\n",
       "      <td>0.056808</td>\n",
       "      <td>-0.306426</td>\n",
       "      <td>0.417868</td>\n",
       "      <td>0.168091</td>\n",
       "      <td>-0.088840</td>\n",
       "      <td>-0.452299</td>\n",
       "      <td>1.000000</td>\n",
       "      <td>0.275082</td>\n",
       "      <td>0.195223</td>\n",
       "      <td>...</td>\n",
       "      <td>-0.296580</td>\n",
       "      <td>0.163215</td>\n",
       "      <td>-0.263810</td>\n",
       "      <td>0.195623</td>\n",
       "      <td>0.167585</td>\n",
       "      <td>0.188029</td>\n",
       "      <td>0.189688</td>\n",
       "      <td>0.104356</td>\n",
       "      <td>0.175861</td>\n",
       "      <td>-0.265313</td>\n",
       "    </tr>\n",
       "    <tr>\n",
       "      <th>ba</th>\n",
       "      <td>0.042427</td>\n",
       "      <td>0.110164</td>\n",
       "      <td>-0.231704</td>\n",
       "      <td>0.377935</td>\n",
       "      <td>0.119399</td>\n",
       "      <td>-0.110987</td>\n",
       "      <td>-0.285070</td>\n",
       "      <td>0.275082</td>\n",
       "      <td>1.000000</td>\n",
       "      <td>0.079162</td>\n",
       "      <td>...</td>\n",
       "      <td>-0.189420</td>\n",
       "      <td>0.104748</td>\n",
       "      <td>-0.192212</td>\n",
       "      <td>0.089046</td>\n",
       "      <td>0.081995</td>\n",
       "      <td>0.162395</td>\n",
       "      <td>0.149126</td>\n",
       "      <td>0.134732</td>\n",
       "      <td>0.052208</td>\n",
       "      <td>-0.186871</td>\n",
       "    </tr>\n",
       "    <tr>\n",
       "      <th>bgr</th>\n",
       "      <td>0.230731</td>\n",
       "      <td>0.150180</td>\n",
       "      <td>-0.299413</td>\n",
       "      <td>0.293150</td>\n",
       "      <td>0.627002</td>\n",
       "      <td>-0.144874</td>\n",
       "      <td>-0.215699</td>\n",
       "      <td>0.195223</td>\n",
       "      <td>0.079162</td>\n",
       "      <td>1.000000</td>\n",
       "      <td>...</td>\n",
       "      <td>-0.258200</td>\n",
       "      <td>0.119881</td>\n",
       "      <td>-0.214094</td>\n",
       "      <td>0.367816</td>\n",
       "      <td>0.506741</td>\n",
       "      <td>0.207020</td>\n",
       "      <td>0.177285</td>\n",
       "      <td>0.094806</td>\n",
       "      <td>0.112449</td>\n",
       "      <td>-0.379321</td>\n",
       "    </tr>\n",
       "    <tr>\n",
       "      <th>bu</th>\n",
       "      <td>0.194291</td>\n",
       "      <td>0.180841</td>\n",
       "      <td>-0.244995</td>\n",
       "      <td>0.347418</td>\n",
       "      <td>0.126897</td>\n",
       "      <td>-0.189603</td>\n",
       "      <td>-0.397840</td>\n",
       "      <td>0.189094</td>\n",
       "      <td>0.161676</td>\n",
       "      <td>0.118859</td>\n",
       "      <td>...</td>\n",
       "      <td>-0.523091</td>\n",
       "      <td>0.038362</td>\n",
       "      <td>-0.465243</td>\n",
       "      <td>0.395601</td>\n",
       "      <td>0.292761</td>\n",
       "      <td>0.224782</td>\n",
       "      <td>0.274123</td>\n",
       "      <td>0.338740</td>\n",
       "      <td>0.436321</td>\n",
       "      <td>-0.369393</td>\n",
       "    </tr>\n",
       "    <tr>\n",
       "      <th>sc</th>\n",
       "      <td>0.133985</td>\n",
       "      <td>0.143184</td>\n",
       "      <td>-0.171998</td>\n",
       "      <td>0.161310</td>\n",
       "      <td>0.096434</td>\n",
       "      <td>-0.086824</td>\n",
       "      <td>-0.186312</td>\n",
       "      <td>0.054429</td>\n",
       "      <td>0.053959</td>\n",
       "      <td>0.068886</td>\n",
       "      <td>...</td>\n",
       "      <td>-0.338611</td>\n",
       "      <td>-0.010333</td>\n",
       "      <td>-0.321737</td>\n",
       "      <td>0.282864</td>\n",
       "      <td>0.200193</td>\n",
       "      <td>0.195968</td>\n",
       "      <td>0.162131</td>\n",
       "      <td>0.176685</td>\n",
       "      <td>0.236528</td>\n",
       "      <td>-0.291245</td>\n",
       "    </tr>\n",
       "    <tr>\n",
       "      <th>sod</th>\n",
       "      <td>-0.086040</td>\n",
       "      <td>-0.100705</td>\n",
       "      <td>0.210791</td>\n",
       "      <td>-0.225612</td>\n",
       "      <td>-0.051758</td>\n",
       "      <td>0.119536</td>\n",
       "      <td>0.175137</td>\n",
       "      <td>-0.138816</td>\n",
       "      <td>-0.082156</td>\n",
       "      <td>-0.130569</td>\n",
       "      <td>...</td>\n",
       "      <td>0.343555</td>\n",
       "      <td>0.008010</td>\n",
       "      <td>0.313929</td>\n",
       "      <td>-0.306953</td>\n",
       "      <td>-0.256313</td>\n",
       "      <td>-0.221274</td>\n",
       "      <td>-0.158112</td>\n",
       "      <td>-0.150379</td>\n",
       "      <td>-0.198643</td>\n",
       "      <td>0.334900</td>\n",
       "    </tr>\n",
       "    <tr>\n",
       "      <th>pot</th>\n",
       "      <td>0.049399</td>\n",
       "      <td>0.063667</td>\n",
       "      <td>-0.052935</td>\n",
       "      <td>0.107893</td>\n",
       "      <td>0.177396</td>\n",
       "      <td>0.029056</td>\n",
       "      <td>-0.139760</td>\n",
       "      <td>-0.011416</td>\n",
       "      <td>-0.001944</td>\n",
       "      <td>0.052732</td>\n",
       "      <td>...</td>\n",
       "      <td>-0.117795</td>\n",
       "      <td>-0.075563</td>\n",
       "      <td>-0.118226</td>\n",
       "      <td>0.055840</td>\n",
       "      <td>0.055987</td>\n",
       "      <td>0.007551</td>\n",
       "      <td>-0.019855</td>\n",
       "      <td>0.061354</td>\n",
       "      <td>0.100791</td>\n",
       "      <td>-0.065218</td>\n",
       "    </tr>\n",
       "    <tr>\n",
       "      <th>hemo</th>\n",
       "      <td>-0.178308</td>\n",
       "      <td>-0.279303</td>\n",
       "      <td>0.490699</td>\n",
       "      <td>-0.474399</td>\n",
       "      <td>-0.156807</td>\n",
       "      <td>0.261738</td>\n",
       "      <td>0.420864</td>\n",
       "      <td>-0.276645</td>\n",
       "      <td>-0.204860</td>\n",
       "      <td>-0.254435</td>\n",
       "      <td>...</td>\n",
       "      <td>0.847490</td>\n",
       "      <td>-0.137978</td>\n",
       "      <td>0.667512</td>\n",
       "      <td>-0.581205</td>\n",
       "      <td>-0.464641</td>\n",
       "      <td>-0.281825</td>\n",
       "      <td>-0.389592</td>\n",
       "      <td>-0.381524</td>\n",
       "      <td>-0.556635</td>\n",
       "      <td>0.726368</td>\n",
       "    </tr>\n",
       "    <tr>\n",
       "      <th>pcv</th>\n",
       "      <td>-0.212796</td>\n",
       "      <td>-0.289237</td>\n",
       "      <td>0.496434</td>\n",
       "      <td>-0.473446</td>\n",
       "      <td>-0.181285</td>\n",
       "      <td>0.244916</td>\n",
       "      <td>0.409246</td>\n",
       "      <td>-0.296580</td>\n",
       "      <td>-0.189420</td>\n",
       "      <td>-0.258200</td>\n",
       "      <td>...</td>\n",
       "      <td>1.000000</td>\n",
       "      <td>-0.175226</td>\n",
       "      <td>0.693473</td>\n",
       "      <td>-0.569377</td>\n",
       "      <td>-0.447799</td>\n",
       "      <td>-0.296691</td>\n",
       "      <td>-0.382685</td>\n",
       "      <td>-0.388729</td>\n",
       "      <td>-0.514410</td>\n",
       "      <td>0.673129</td>\n",
       "    </tr>\n",
       "    <tr>\n",
       "      <th>wc</th>\n",
       "      <td>0.093794</td>\n",
       "      <td>0.022177</td>\n",
       "      <td>-0.195068</td>\n",
       "      <td>0.202920</td>\n",
       "      <td>0.156649</td>\n",
       "      <td>0.033611</td>\n",
       "      <td>-0.105902</td>\n",
       "      <td>0.163215</td>\n",
       "      <td>0.104748</td>\n",
       "      <td>0.119881</td>\n",
       "      <td>...</td>\n",
       "      <td>-0.175226</td>\n",
       "      <td>1.000000</td>\n",
       "      <td>-0.153776</td>\n",
       "      <td>0.116827</td>\n",
       "      <td>0.144261</td>\n",
       "      <td>0.006923</td>\n",
       "      <td>0.142714</td>\n",
       "      <td>0.123381</td>\n",
       "      <td>0.034059</td>\n",
       "      <td>-0.177571</td>\n",
       "    </tr>\n",
       "    <tr>\n",
       "      <th>rc</th>\n",
       "      <td>-0.203199</td>\n",
       "      <td>-0.219317</td>\n",
       "      <td>0.432222</td>\n",
       "      <td>-0.405092</td>\n",
       "      <td>-0.161994</td>\n",
       "      <td>0.181520</td>\n",
       "      <td>0.367392</td>\n",
       "      <td>-0.263810</td>\n",
       "      <td>-0.192212</td>\n",
       "      <td>-0.214094</td>\n",
       "      <td>...</td>\n",
       "      <td>0.693473</td>\n",
       "      <td>-0.153776</td>\n",
       "      <td>1.000000</td>\n",
       "      <td>-0.526008</td>\n",
       "      <td>-0.414361</td>\n",
       "      <td>-0.295299</td>\n",
       "      <td>-0.392727</td>\n",
       "      <td>-0.330384</td>\n",
       "      <td>-0.393772</td>\n",
       "      <td>0.566163</td>\n",
       "    </tr>\n",
       "    <tr>\n",
       "      <th>htn</th>\n",
       "      <td>0.395073</td>\n",
       "      <td>0.266901</td>\n",
       "      <td>-0.323643</td>\n",
       "      <td>0.406057</td>\n",
       "      <td>0.254268</td>\n",
       "      <td>-0.184354</td>\n",
       "      <td>-0.335028</td>\n",
       "      <td>0.195623</td>\n",
       "      <td>0.089046</td>\n",
       "      <td>0.367816</td>\n",
       "      <td>...</td>\n",
       "      <td>-0.569377</td>\n",
       "      <td>0.116827</td>\n",
       "      <td>-0.526008</td>\n",
       "      <td>1.000000</td>\n",
       "      <td>0.589859</td>\n",
       "      <td>0.325479</td>\n",
       "      <td>0.345070</td>\n",
       "      <td>0.371026</td>\n",
       "      <td>0.347802</td>\n",
       "      <td>-0.590438</td>\n",
       "    </tr>\n",
       "    <tr>\n",
       "      <th>dm</th>\n",
       "      <td>0.359467</td>\n",
       "      <td>0.229902</td>\n",
       "      <td>-0.352804</td>\n",
       "      <td>0.312978</td>\n",
       "      <td>0.431277</td>\n",
       "      <td>-0.202329</td>\n",
       "      <td>-0.223030</td>\n",
       "      <td>0.167585</td>\n",
       "      <td>0.081995</td>\n",
       "      <td>0.506741</td>\n",
       "      <td>...</td>\n",
       "      <td>-0.447799</td>\n",
       "      <td>0.144261</td>\n",
       "      <td>-0.414361</td>\n",
       "      <td>0.589859</td>\n",
       "      <td>1.000000</td>\n",
       "      <td>0.272335</td>\n",
       "      <td>0.328017</td>\n",
       "      <td>0.311226</td>\n",
       "      <td>0.186708</td>\n",
       "      <td>-0.546786</td>\n",
       "    </tr>\n",
       "    <tr>\n",
       "      <th>cad</th>\n",
       "      <td>0.231419</td>\n",
       "      <td>0.084135</td>\n",
       "      <td>-0.135814</td>\n",
       "      <td>0.200957</td>\n",
       "      <td>0.229301</td>\n",
       "      <td>-0.131823</td>\n",
       "      <td>-0.131643</td>\n",
       "      <td>0.188029</td>\n",
       "      <td>0.162395</td>\n",
       "      <td>0.207020</td>\n",
       "      <td>...</td>\n",
       "      <td>-0.296691</td>\n",
       "      <td>0.006923</td>\n",
       "      <td>-0.295299</td>\n",
       "      <td>0.325479</td>\n",
       "      <td>0.272335</td>\n",
       "      <td>1.000000</td>\n",
       "      <td>0.156104</td>\n",
       "      <td>0.172295</td>\n",
       "      <td>0.047700</td>\n",
       "      <td>-0.236088</td>\n",
       "    </tr>\n",
       "    <tr>\n",
       "      <th>appet</th>\n",
       "      <td>0.156581</td>\n",
       "      <td>0.175054</td>\n",
       "      <td>-0.230975</td>\n",
       "      <td>0.303145</td>\n",
       "      <td>0.069216</td>\n",
       "      <td>-0.092979</td>\n",
       "      <td>-0.266936</td>\n",
       "      <td>0.189688</td>\n",
       "      <td>0.149126</td>\n",
       "      <td>0.177285</td>\n",
       "      <td>...</td>\n",
       "      <td>-0.382685</td>\n",
       "      <td>0.142714</td>\n",
       "      <td>-0.392727</td>\n",
       "      <td>0.345070</td>\n",
       "      <td>0.328017</td>\n",
       "      <td>0.156104</td>\n",
       "      <td>1.000000</td>\n",
       "      <td>0.417055</td>\n",
       "      <td>0.254942</td>\n",
       "      <td>-0.393341</td>\n",
       "    </tr>\n",
       "    <tr>\n",
       "      <th>pe</th>\n",
       "      <td>0.094772</td>\n",
       "      <td>0.056902</td>\n",
       "      <td>-0.253803</td>\n",
       "      <td>0.411080</td>\n",
       "      <td>0.116442</td>\n",
       "      <td>-0.195957</td>\n",
       "      <td>-0.356163</td>\n",
       "      <td>0.104356</td>\n",
       "      <td>0.134732</td>\n",
       "      <td>0.094806</td>\n",
       "      <td>...</td>\n",
       "      <td>-0.388729</td>\n",
       "      <td>0.123381</td>\n",
       "      <td>-0.330384</td>\n",
       "      <td>0.371026</td>\n",
       "      <td>0.311226</td>\n",
       "      <td>0.172295</td>\n",
       "      <td>0.417055</td>\n",
       "      <td>1.000000</td>\n",
       "      <td>0.207025</td>\n",
       "      <td>-0.375154</td>\n",
       "    </tr>\n",
       "    <tr>\n",
       "      <th>ane</th>\n",
       "      <td>0.052938</td>\n",
       "      <td>0.195134</td>\n",
       "      <td>-0.184155</td>\n",
       "      <td>0.229556</td>\n",
       "      <td>0.042464</td>\n",
       "      <td>-0.070321</td>\n",
       "      <td>-0.319431</td>\n",
       "      <td>0.175861</td>\n",
       "      <td>0.052208</td>\n",
       "      <td>0.112449</td>\n",
       "      <td>...</td>\n",
       "      <td>-0.514410</td>\n",
       "      <td>0.034059</td>\n",
       "      <td>-0.393772</td>\n",
       "      <td>0.347802</td>\n",
       "      <td>0.186708</td>\n",
       "      <td>0.047700</td>\n",
       "      <td>0.254942</td>\n",
       "      <td>0.207025</td>\n",
       "      <td>1.000000</td>\n",
       "      <td>-0.325396</td>\n",
       "    </tr>\n",
       "    <tr>\n",
       "      <th>classification</th>\n",
       "      <td>-0.227842</td>\n",
       "      <td>-0.293693</td>\n",
       "      <td>0.659504</td>\n",
       "      <td>-0.531562</td>\n",
       "      <td>-0.294555</td>\n",
       "      <td>0.329151</td>\n",
       "      <td>0.398803</td>\n",
       "      <td>-0.265313</td>\n",
       "      <td>-0.186871</td>\n",
       "      <td>-0.379321</td>\n",
       "      <td>...</td>\n",
       "      <td>0.673129</td>\n",
       "      <td>-0.177571</td>\n",
       "      <td>0.566163</td>\n",
       "      <td>-0.590438</td>\n",
       "      <td>-0.546786</td>\n",
       "      <td>-0.236088</td>\n",
       "      <td>-0.393341</td>\n",
       "      <td>-0.375154</td>\n",
       "      <td>-0.325396</td>\n",
       "      <td>1.000000</td>\n",
       "    </tr>\n",
       "  </tbody>\n",
       "</table>\n",
       "<p>25 rows × 25 columns</p>\n",
       "</div>"
      ],
      "text/plain": [
       "                     age        bp        sg        al        su       rbc  \\\n",
       "age             1.000000  0.136316 -0.160374  0.085918  0.186750 -0.061634   \n",
       "bp              0.136316  1.000000 -0.166980  0.123518  0.189561 -0.188020   \n",
       "sg             -0.160374 -0.166980  1.000000 -0.479962 -0.292053  0.244053   \n",
       "al              0.085918  0.123518 -0.479962  1.000000  0.287751 -0.321062   \n",
       "su              0.186750  0.189561 -0.292053  0.287751  1.000000 -0.072953   \n",
       "rbc            -0.061634 -0.188020  0.244053 -0.321062 -0.072953  1.000000   \n",
       "pc             -0.113214 -0.156574  0.322412 -0.481051 -0.181066  0.229181   \n",
       "pcc             0.157401  0.056808 -0.306426  0.417868  0.168091 -0.088840   \n",
       "ba              0.042427  0.110164 -0.231704  0.377935  0.119399 -0.110987   \n",
       "bgr             0.230731  0.150180 -0.299413  0.293150  0.627002 -0.144874   \n",
       "bu              0.194291  0.180841 -0.244995  0.347418  0.126897 -0.189603   \n",
       "sc              0.133985  0.143184 -0.171998  0.161310  0.096434 -0.086824   \n",
       "sod            -0.086040 -0.100705  0.210791 -0.225612 -0.051758  0.119536   \n",
       "pot             0.049399  0.063667 -0.052935  0.107893  0.177396  0.029056   \n",
       "hemo           -0.178308 -0.279303  0.490699 -0.474399 -0.156807  0.261738   \n",
       "pcv            -0.212796 -0.289237  0.496434 -0.473446 -0.181285  0.244916   \n",
       "wc              0.093794  0.022177 -0.195068  0.202920  0.156649  0.033611   \n",
       "rc             -0.203199 -0.219317  0.432222 -0.405092 -0.161994  0.181520   \n",
       "htn             0.395073  0.266901 -0.323643  0.406057  0.254268 -0.184354   \n",
       "dm              0.359467  0.229902 -0.352804  0.312978  0.431277 -0.202329   \n",
       "cad             0.231419  0.084135 -0.135814  0.200957  0.229301 -0.131823   \n",
       "appet           0.156581  0.175054 -0.230975  0.303145  0.069216 -0.092979   \n",
       "pe              0.094772  0.056902 -0.253803  0.411080  0.116442 -0.195957   \n",
       "ane             0.052938  0.195134 -0.184155  0.229556  0.042464 -0.070321   \n",
       "classification -0.227842 -0.293693  0.659504 -0.531562 -0.294555  0.329151   \n",
       "\n",
       "                      pc       pcc        ba       bgr  ...       pcv  \\\n",
       "age            -0.113214  0.157401  0.042427  0.230731  ... -0.212796   \n",
       "bp             -0.156574  0.056808  0.110164  0.150180  ... -0.289237   \n",
       "sg              0.322412 -0.306426 -0.231704 -0.299413  ...  0.496434   \n",
       "al             -0.481051  0.417868  0.377935  0.293150  ... -0.473446   \n",
       "su             -0.181066  0.168091  0.119399  0.627002  ... -0.181285   \n",
       "rbc             0.229181 -0.088840 -0.110987 -0.144874  ...  0.244916   \n",
       "pc              1.000000 -0.452299 -0.285070 -0.215699  ...  0.409246   \n",
       "pcc            -0.452299  1.000000  0.275082  0.195223  ... -0.296580   \n",
       "ba             -0.285070  0.275082  1.000000  0.079162  ... -0.189420   \n",
       "bgr            -0.215699  0.195223  0.079162  1.000000  ... -0.258200   \n",
       "bu             -0.397840  0.189094  0.161676  0.118859  ... -0.523091   \n",
       "sc             -0.186312  0.054429  0.053959  0.068886  ... -0.338611   \n",
       "sod             0.175137 -0.138816 -0.082156 -0.130569  ...  0.343555   \n",
       "pot            -0.139760 -0.011416 -0.001944  0.052732  ... -0.117795   \n",
       "hemo            0.420864 -0.276645 -0.204860 -0.254435  ...  0.847490   \n",
       "pcv             0.409246 -0.296580 -0.189420 -0.258200  ...  1.000000   \n",
       "wc             -0.105902  0.163215  0.104748  0.119881  ... -0.175226   \n",
       "rc              0.367392 -0.263810 -0.192212 -0.214094  ...  0.693473   \n",
       "htn            -0.335028  0.195623  0.089046  0.367816  ... -0.569377   \n",
       "dm             -0.223030  0.167585  0.081995  0.506741  ... -0.447799   \n",
       "cad            -0.131643  0.188029  0.162395  0.207020  ... -0.296691   \n",
       "appet          -0.266936  0.189688  0.149126  0.177285  ... -0.382685   \n",
       "pe             -0.356163  0.104356  0.134732  0.094806  ... -0.388729   \n",
       "ane            -0.319431  0.175861  0.052208  0.112449  ... -0.514410   \n",
       "classification  0.398803 -0.265313 -0.186871 -0.379321  ...  0.673129   \n",
       "\n",
       "                      wc        rc       htn        dm       cad     appet  \\\n",
       "age             0.093794 -0.203199  0.395073  0.359467  0.231419  0.156581   \n",
       "bp              0.022177 -0.219317  0.266901  0.229902  0.084135  0.175054   \n",
       "sg             -0.195068  0.432222 -0.323643 -0.352804 -0.135814 -0.230975   \n",
       "al              0.202920 -0.405092  0.406057  0.312978  0.200957  0.303145   \n",
       "su              0.156649 -0.161994  0.254268  0.431277  0.229301  0.069216   \n",
       "rbc             0.033611  0.181520 -0.184354 -0.202329 -0.131823 -0.092979   \n",
       "pc             -0.105902  0.367392 -0.335028 -0.223030 -0.131643 -0.266936   \n",
       "pcc             0.163215 -0.263810  0.195623  0.167585  0.188029  0.189688   \n",
       "ba              0.104748 -0.192212  0.089046  0.081995  0.162395  0.149126   \n",
       "bgr             0.119881 -0.214094  0.367816  0.506741  0.207020  0.177285   \n",
       "bu              0.038362 -0.465243  0.395601  0.292761  0.224782  0.274123   \n",
       "sc             -0.010333 -0.321737  0.282864  0.200193  0.195968  0.162131   \n",
       "sod             0.008010  0.313929 -0.306953 -0.256313 -0.221274 -0.158112   \n",
       "pot            -0.075563 -0.118226  0.055840  0.055987  0.007551 -0.019855   \n",
       "hemo           -0.137978  0.667512 -0.581205 -0.464641 -0.281825 -0.389592   \n",
       "pcv            -0.175226  0.693473 -0.569377 -0.447799 -0.296691 -0.382685   \n",
       "wc              1.000000 -0.153776  0.116827  0.144261  0.006923  0.142714   \n",
       "rc             -0.153776  1.000000 -0.526008 -0.414361 -0.295299 -0.392727   \n",
       "htn             0.116827 -0.526008  1.000000  0.589859  0.325479  0.345070   \n",
       "dm              0.144261 -0.414361  0.589859  1.000000  0.272335  0.328017   \n",
       "cad             0.006923 -0.295299  0.325479  0.272335  1.000000  0.156104   \n",
       "appet           0.142714 -0.392727  0.345070  0.328017  0.156104  1.000000   \n",
       "pe              0.123381 -0.330384  0.371026  0.311226  0.172295  0.417055   \n",
       "ane             0.034059 -0.393772  0.347802  0.186708  0.047700  0.254942   \n",
       "classification -0.177571  0.566163 -0.590438 -0.546786 -0.236088 -0.393341   \n",
       "\n",
       "                      pe       ane  classification  \n",
       "age             0.094772  0.052938       -0.227842  \n",
       "bp              0.056902  0.195134       -0.293693  \n",
       "sg             -0.253803 -0.184155        0.659504  \n",
       "al              0.411080  0.229556       -0.531562  \n",
       "su              0.116442  0.042464       -0.294555  \n",
       "rbc            -0.195957 -0.070321        0.329151  \n",
       "pc             -0.356163 -0.319431        0.398803  \n",
       "pcc             0.104356  0.175861       -0.265313  \n",
       "ba              0.134732  0.052208       -0.186871  \n",
       "bgr             0.094806  0.112449       -0.379321  \n",
       "bu              0.338740  0.436321       -0.369393  \n",
       "sc              0.176685  0.236528       -0.291245  \n",
       "sod            -0.150379 -0.198643        0.334900  \n",
       "pot             0.061354  0.100791       -0.065218  \n",
       "hemo           -0.381524 -0.556635        0.726368  \n",
       "pcv            -0.388729 -0.514410        0.673129  \n",
       "wc              0.123381  0.034059       -0.177571  \n",
       "rc             -0.330384 -0.393772        0.566163  \n",
       "htn             0.371026  0.347802       -0.590438  \n",
       "dm              0.311226  0.186708       -0.546786  \n",
       "cad             0.172295  0.047700       -0.236088  \n",
       "appet           0.417055  0.254942       -0.393341  \n",
       "pe              1.000000  0.207025       -0.375154  \n",
       "ane             0.207025  1.000000       -0.325396  \n",
       "classification -0.375154 -0.325396        1.000000  \n",
       "\n",
       "[25 rows x 25 columns]"
      ]
     },
     "execution_count": 46,
     "metadata": {},
     "output_type": "execute_result"
    }
   ],
   "source": [
    "kidney.corr()"
   ]
  },
  {
   "cell_type": "code",
   "execution_count": 47,
   "id": "c5557e1b-a0c7-470c-804e-5cbc6db4c6a1",
   "metadata": {},
   "outputs": [
    {
     "data": {
      "text/plain": [
       "<AxesSubplot:>"
      ]
     },
     "execution_count": 47,
     "metadata": {},
     "output_type": "execute_result"
    },
    {
     "data": {
      "image/png": "[encoded data removed]",
      "text/plain": [
       "<Figure size 1200x1200 with 2 Axes>"
      ]
     },
     "metadata": {},
     "output_type": "display_data"
    }
   ],
   "source": [
    "plt.figure(figsize = (12,12))\n",
    "sns.heatmap(kidney.corr(method='pearson'), cbar=True, cmap='BuPu',annot=True)"
   ]
  },
  {
   "cell_type": "markdown",
   "id": "dfb832a1-8393-4dbe-9dee-88ebe73d5e0c",
   "metadata": {},
   "source": [
    "> haemoglobin and albumin are negatively correlated\n",
    "\n",
    "> Rbc count is positively correlated with specific gravity,haemoglobin,packed cell volume\n",
    "\n",
    "\n",
    "> Packed cell volume and haemoglobin are highly positive correlated\n",
    "\n",
    "> Rbc count is negatively correlated with albumin, blood urea\n",
    "\n",
    "> Packed cell volume is negatively correlated with albumin and blood urea"
   ]
  },
  {
   "cell_type": "code",
   "execution_count": 48,
   "id": "97ea6116-b57d-49a4-84a7-df5ad84ac544",
   "metadata": {},
   "outputs": [],
   "source": [
    "def show_corr(dataset, target_name, n_most=None):\n",
    "    if n_most is None:\n",
    "        n_most=len(dataset.columns.values)-1\n",
    "    corr_matrix=dataset.corr().abs()\n",
    "    most_correlated_features=corr_matrix[target_name].sort_values(ascending=False).drop(target_name)\n",
    "    most_correlated_feature_names=most_correlated_features.index.values\n",
    "    \n",
    "    fig, ax=plt.subplots(figsize=(15,5))\n",
    "    plt.xticks(rotation=\"90\")\n",
    "    sns.barplot(x=most_correlated_feature_names, y=most_correlated_features)\n",
    "    plt.title(\"{} correlation with the independent variables\".format(target_name))"
   ]
  },
  {
   "cell_type": "code",
   "execution_count": 49,
   "id": "2a58266c-5f95-4245-b958-b4906bdb7277",
   "metadata": {},
   "outputs": [
    {
     "data": {
      "image/png": "[encoded data removed]",
      "text/plain": [
       "<Figure size 1500x500 with 1 Axes>"
      ]
     },
     "metadata": {},
     "output_type": "display_data"
    }
   ],
   "source": [
    "show_corr(dataset=kidney, target_name='classification')"
   ]
  },
  {
   "cell_type": "code",
   "execution_count": 50,
   "id": "79061d74-42da-4114-a916-bd06847f61cb",
   "metadata": {},
   "outputs": [
    {
     "data": {
      "text/plain": [
       "<AxesSubplot:xlabel='classification', ylabel='count'>"
      ]
     },
     "execution_count": 50,
     "metadata": {},
     "output_type": "execute_result"
    },
    {
     "data": {
      "image/png": "[encoded data removed]",
      "text/plain": [
       "<Figure size 640x480 with 1 Axes>"
      ]
     },
     "metadata": {},
     "output_type": "display_data"
    }
   ],
   "source": [
    "sns.countplot(kidney['classification'])"
   ]
  },
  {
   "cell_type": "code",
   "execution_count": 51,
   "id": "31a5e6bf-3ec5-4332-8dd9-8fe0d177e2b0",
   "metadata": {},
   "outputs": [
    {
     "data": {
      "text/html": [
       "<div>\n",
       "<style scoped>\n",
       "    .dataframe tbody tr th:only-of-type {\n",
       "        vertical-align: middle;\n",
       "    }\n",
       "\n",
       "    .dataframe tbody tr th {\n",
       "        vertical-align: top;\n",
       "    }\n",
       "\n",
       "    .dataframe thead th {\n",
       "        text-align: right;\n",
       "    }\n",
       "</style>\n",
       "<table border=\"1\" class=\"dataframe\">\n",
       "  <thead>\n",
       "    <tr style=\"text-align: right;\">\n",
       "      <th></th>\n",
       "      <th></th>\n",
       "      <th>count</th>\n",
       "      <th>mean</th>\n",
       "      <th>median</th>\n",
       "      <th>min</th>\n",
       "      <th>max</th>\n",
       "    </tr>\n",
       "    <tr>\n",
       "      <th>rbc</th>\n",
       "      <th>classification</th>\n",
       "      <th></th>\n",
       "      <th></th>\n",
       "      <th></th>\n",
       "      <th></th>\n",
       "      <th></th>\n",
       "    </tr>\n",
       "  </thead>\n",
       "  <tbody>\n",
       "    <tr>\n",
       "      <th rowspan=\"2\" valign=\"top\">0</th>\n",
       "      <th>0</th>\n",
       "      <td>71</td>\n",
       "      <td>0.0</td>\n",
       "      <td>0.0</td>\n",
       "      <td>0</td>\n",
       "      <td>0</td>\n",
       "    </tr>\n",
       "    <tr>\n",
       "      <th>1</th>\n",
       "      <td>3</td>\n",
       "      <td>0.0</td>\n",
       "      <td>0.0</td>\n",
       "      <td>0</td>\n",
       "      <td>0</td>\n",
       "    </tr>\n",
       "    <tr>\n",
       "      <th rowspan=\"2\" valign=\"top\">1</th>\n",
       "      <th>0</th>\n",
       "      <td>179</td>\n",
       "      <td>1.0</td>\n",
       "      <td>1.0</td>\n",
       "      <td>1</td>\n",
       "      <td>1</td>\n",
       "    </tr>\n",
       "    <tr>\n",
       "      <th>1</th>\n",
       "      <td>147</td>\n",
       "      <td>1.0</td>\n",
       "      <td>1.0</td>\n",
       "      <td>1</td>\n",
       "      <td>1</td>\n",
       "    </tr>\n",
       "  </tbody>\n",
       "</table>\n",
       "</div>"
      ],
      "text/plain": [
       "                    count  mean  median  min  max\n",
       "rbc classification                               \n",
       "0   0                  71   0.0     0.0    0    0\n",
       "    1                   3   0.0     0.0    0    0\n",
       "1   0                 179   1.0     1.0    1    1\n",
       "    1                 147   1.0     1.0    1    1"
      ]
     },
     "execution_count": 51,
     "metadata": {},
     "output_type": "execute_result"
    }
   ],
   "source": [
    "kidney.groupby(['rbc','classification'])['rbc'].agg(['count','mean','median','min','max'])"
   ]
  },
  {
   "cell_type": "markdown",
   "id": "22f1bdf8-25a4-4d50-8f54-147634203094",
   "metadata": {},
   "source": [
    "white blood cell count', - wbc\n",
    "'blood urea', - bu\n",
    "'blood glucose random',\n",
    "'serum creatinine',\n",
    "'packed cell volume', \n",
    "'albumin', \n",
    "'haemoglobin',\n",
    "       'age', \n",
    "       'sugar', \n",
    "       'hypertension'"
   ]
  },
  {
   "cell_type": "markdown",
   "id": "143267b3-d6fa-413f-b0a5-cdee3c1faf80",
   "metadata": {},
   "source": [
    "### 2.8 Checking distribution of class"
   ]
  },
  {
   "cell_type": "code",
   "execution_count": 52,
   "id": "980d0ab5-2f0e-4bab-8bce-6a69699849ff",
   "metadata": {},
   "outputs": [
    {
     "data": {
      "text/plain": [
       "0    250\n",
       "1    150\n",
       "Name: classification, dtype: int64"
      ]
     },
     "execution_count": 52,
     "metadata": {},
     "output_type": "execute_result"
    }
   ],
   "source": [
    "kidney['classification'].value_counts()"
   ]
  },
  {
   "cell_type": "code",
   "execution_count": 53,
   "id": "ade087e7-8a95-4385-84ce-ca31c4aac4a9",
   "metadata": {},
   "outputs": [],
   "source": [
    "selected = ['wc', 'bu', 'bgr',\n",
    "       'sc', 'pcv', 'al', 'hemo',\n",
    "       'age', 'su', 'htn']"
   ]
  },
  {
   "cell_type": "code",
   "execution_count": 54,
   "id": "fdd264a1-c00f-4ccf-b9b6-f477cbd201bc",
   "metadata": {},
   "outputs": [],
   "source": [
    "X=kidney[selected]"
   ]
  },
  {
   "cell_type": "code",
   "execution_count": 55,
   "id": "8a79192a-cb8e-4755-858b-6a50b4a0bcd4",
   "metadata": {},
   "outputs": [
    {
     "data": {
      "text/html": [
       "<div>\n",
       "<style scoped>\n",
       "    .dataframe tbody tr th:only-of-type {\n",
       "        vertical-align: middle;\n",
       "    }\n",
       "\n",
       "    .dataframe tbody tr th {\n",
       "        vertical-align: top;\n",
       "    }\n",
       "\n",
       "    .dataframe thead th {\n",
       "        text-align: right;\n",
       "    }\n",
       "</style>\n",
       "<table border=\"1\" class=\"dataframe\">\n",
       "  <thead>\n",
       "    <tr style=\"text-align: right;\">\n",
       "      <th></th>\n",
       "      <th>wc</th>\n",
       "      <th>bu</th>\n",
       "      <th>bgr</th>\n",
       "      <th>sc</th>\n",
       "      <th>pcv</th>\n",
       "      <th>al</th>\n",
       "      <th>hemo</th>\n",
       "      <th>age</th>\n",
       "      <th>su</th>\n",
       "      <th>htn</th>\n",
       "    </tr>\n",
       "  </thead>\n",
       "  <tbody>\n",
       "    <tr>\n",
       "      <th>0</th>\n",
       "      <td>7800.0</td>\n",
       "      <td>36.0</td>\n",
       "      <td>121.0</td>\n",
       "      <td>1.2</td>\n",
       "      <td>44.0</td>\n",
       "      <td>1.0</td>\n",
       "      <td>15.4</td>\n",
       "      <td>48.0</td>\n",
       "      <td>0.0</td>\n",
       "      <td>1</td>\n",
       "    </tr>\n",
       "    <tr>\n",
       "      <th>1</th>\n",
       "      <td>6000.0</td>\n",
       "      <td>18.0</td>\n",
       "      <td>121.0</td>\n",
       "      <td>0.8</td>\n",
       "      <td>38.0</td>\n",
       "      <td>4.0</td>\n",
       "      <td>11.3</td>\n",
       "      <td>7.0</td>\n",
       "      <td>0.0</td>\n",
       "      <td>0</td>\n",
       "    </tr>\n",
       "    <tr>\n",
       "      <th>2</th>\n",
       "      <td>7500.0</td>\n",
       "      <td>53.0</td>\n",
       "      <td>423.0</td>\n",
       "      <td>1.8</td>\n",
       "      <td>31.0</td>\n",
       "      <td>2.0</td>\n",
       "      <td>9.6</td>\n",
       "      <td>62.0</td>\n",
       "      <td>3.0</td>\n",
       "      <td>0</td>\n",
       "    </tr>\n",
       "    <tr>\n",
       "      <th>3</th>\n",
       "      <td>6700.0</td>\n",
       "      <td>56.0</td>\n",
       "      <td>117.0</td>\n",
       "      <td>3.8</td>\n",
       "      <td>32.0</td>\n",
       "      <td>4.0</td>\n",
       "      <td>11.2</td>\n",
       "      <td>48.0</td>\n",
       "      <td>0.0</td>\n",
       "      <td>1</td>\n",
       "    </tr>\n",
       "    <tr>\n",
       "      <th>4</th>\n",
       "      <td>7300.0</td>\n",
       "      <td>26.0</td>\n",
       "      <td>106.0</td>\n",
       "      <td>1.4</td>\n",
       "      <td>35.0</td>\n",
       "      <td>2.0</td>\n",
       "      <td>11.6</td>\n",
       "      <td>51.0</td>\n",
       "      <td>0.0</td>\n",
       "      <td>0</td>\n",
       "    </tr>\n",
       "  </tbody>\n",
       "</table>\n",
       "</div>"
      ],
      "text/plain": [
       "       wc    bu    bgr   sc   pcv   al  hemo   age   su  htn\n",
       "0  7800.0  36.0  121.0  1.2  44.0  1.0  15.4  48.0  0.0    1\n",
       "1  6000.0  18.0  121.0  0.8  38.0  4.0  11.3   7.0  0.0    0\n",
       "2  7500.0  53.0  423.0  1.8  31.0  2.0   9.6  62.0  3.0    0\n",
       "3  6700.0  56.0  117.0  3.8  32.0  4.0  11.2  48.0  0.0    1\n",
       "4  7300.0  26.0  106.0  1.4  35.0  2.0  11.6  51.0  0.0    0"
      ]
     },
     "execution_count": 55,
     "metadata": {},
     "output_type": "execute_result"
    }
   ],
   "source": [
    "X.head(5)"
   ]
  },
  {
   "cell_type": "code",
   "execution_count": 56,
   "id": "1ee6719f-1642-44a0-940a-ecb8d5d9935e",
   "metadata": {},
   "outputs": [],
   "source": [
    "y = kidney['classification'].copy()"
   ]
  },
  {
   "cell_type": "code",
   "execution_count": 57,
   "id": "1910964e-4a11-4e42-bfb0-7396a1fb089a",
   "metadata": {},
   "outputs": [
    {
     "data": {
      "text/html": [
       "<div>\n",
       "<style scoped>\n",
       "    .dataframe tbody tr th:only-of-type {\n",
       "        vertical-align: middle;\n",
       "    }\n",
       "\n",
       "    .dataframe tbody tr th {\n",
       "        vertical-align: top;\n",
       "    }\n",
       "\n",
       "    .dataframe thead th {\n",
       "        text-align: right;\n",
       "    }\n",
       "</style>\n",
       "<table border=\"1\" class=\"dataframe\">\n",
       "  <thead>\n",
       "    <tr style=\"text-align: right;\">\n",
       "      <th></th>\n",
       "      <th>wc</th>\n",
       "      <th>bu</th>\n",
       "      <th>bgr</th>\n",
       "      <th>sc</th>\n",
       "      <th>pcv</th>\n",
       "      <th>al</th>\n",
       "      <th>hemo</th>\n",
       "      <th>age</th>\n",
       "      <th>su</th>\n",
       "      <th>htn</th>\n",
       "    </tr>\n",
       "  </thead>\n",
       "  <tbody>\n",
       "    <tr>\n",
       "      <th>0</th>\n",
       "      <td>7800.0</td>\n",
       "      <td>36.0</td>\n",
       "      <td>121.0</td>\n",
       "      <td>1.2</td>\n",
       "      <td>44.0</td>\n",
       "      <td>1.0</td>\n",
       "      <td>15.4</td>\n",
       "      <td>48.0</td>\n",
       "      <td>0.0</td>\n",
       "      <td>1</td>\n",
       "    </tr>\n",
       "    <tr>\n",
       "      <th>1</th>\n",
       "      <td>6000.0</td>\n",
       "      <td>18.0</td>\n",
       "      <td>121.0</td>\n",
       "      <td>0.8</td>\n",
       "      <td>38.0</td>\n",
       "      <td>4.0</td>\n",
       "      <td>11.3</td>\n",
       "      <td>7.0</td>\n",
       "      <td>0.0</td>\n",
       "      <td>0</td>\n",
       "    </tr>\n",
       "    <tr>\n",
       "      <th>2</th>\n",
       "      <td>7500.0</td>\n",
       "      <td>53.0</td>\n",
       "      <td>423.0</td>\n",
       "      <td>1.8</td>\n",
       "      <td>31.0</td>\n",
       "      <td>2.0</td>\n",
       "      <td>9.6</td>\n",
       "      <td>62.0</td>\n",
       "      <td>3.0</td>\n",
       "      <td>0</td>\n",
       "    </tr>\n",
       "  </tbody>\n",
       "</table>\n",
       "</div>"
      ],
      "text/plain": [
       "       wc    bu    bgr   sc   pcv   al  hemo   age   su  htn\n",
       "0  7800.0  36.0  121.0  1.2  44.0  1.0  15.4  48.0  0.0    1\n",
       "1  6000.0  18.0  121.0  0.8  38.0  4.0  11.3   7.0  0.0    0\n",
       "2  7500.0  53.0  423.0  1.8  31.0  2.0   9.6  62.0  3.0    0"
      ]
     },
     "execution_count": 57,
     "metadata": {},
     "output_type": "execute_result"
    }
   ],
   "source": [
    "X.head(3)"
   ]
  },
  {
   "cell_type": "code",
   "execution_count": 58,
   "id": "f3c33ecd-3668-4abf-9ecb-82b4a5771ef8",
   "metadata": {},
   "outputs": [
    {
     "data": {
      "text/plain": [
       "0    0\n",
       "1    0\n",
       "2    0\n",
       "Name: classification, dtype: int32"
      ]
     },
     "execution_count": 58,
     "metadata": {},
     "output_type": "execute_result"
    }
   ],
   "source": [
    "y.head(3)"
   ]
  },
  {
   "cell_type": "markdown",
   "id": "960d1c72-c3e8-4654-8f15-c78ffb90ebbf",
   "metadata": {},
   "source": [
    "## 3.  Split data intro training and validation sets"
   ]
  },
  {
   "cell_type": "markdown",
   "id": "e33c48e7-d48d-478b-b628-5c4eb9045088",
   "metadata": {},
   "source": [
    "#### Create the training set and the test set with a 80/20 split.\n",
    "\n",
    "> With 80% of the data for training and 20% for testing, we've chosen to use a train-test split. \n",
    "\n",
    "> As our considered Dataset is a small Dataset, This percentage split ratio is inline with common practice for small to medium sized datasets.\n",
    "\n",
    "> In real-time Problems Generally Data is split into 3 parts - Train, Test and Validate. But here, Given that we are just evaluating two models and want to devote as much data as possible to the training and validation processes, we have chosen not to perform a three-way data split."
   ]
  },
  {
   "cell_type": "code",
   "execution_count": 59,
   "id": "09766d67-bb9c-4cac-931b-c025637e750a",
   "metadata": {},
   "outputs": [],
   "source": [
    "X_train,X_test,y_train,y_test=train_test_split(X,y,test_size=0.2,random_state=1)"
   ]
  },
  {
   "cell_type": "markdown",
   "id": "e9dd7eda-c69d-4dd9-b75d-324c19c94769",
   "metadata": {},
   "source": [
    "### 3.1 Balancing the Data"
   ]
  },
  {
   "cell_type": "code",
   "execution_count": 60,
   "id": "973ebed3-f72f-412e-a936-3d565bb0b1e6",
   "metadata": {},
   "outputs": [],
   "source": [
    "from sklearn.model_selection import train_test_split\n",
    "from sklearn import preprocessing \n",
    "\n",
    "# split the data into validation and training set\n",
    "train_df, validation_df = train_test_split(kidney, test_size=0.2, random_state=1)\n",
    "\n",
    "# to reduce repetition in later code, create variables to represent the columns\n",
    "# that are our predictors and target\n",
    "target = 'classification'\n",
    "predictors = selected\n",
    "\n",
    "# create a standard scaler and fit it to the training set of predictors\n",
    "scaler = preprocessing.StandardScaler()\n",
    "scaler.fit(train_df[predictors])\n",
    "\n",
    "# Transform the predictors of training and validation sets\n",
    "train_predictors = scaler.transform(train_df[predictors]) # train_predictors is not a numpy array\n",
    "train_target = train_df[target] # train_target is now a series object\n",
    "\n",
    "validation_predictors = scaler.transform(validation_df[predictors]) # validation_target is now a series object\n",
    "validation_target = validation_df[target] # validation_target is now a series object"
   ]
  },
  {
   "cell_type": "code",
   "execution_count": 61,
   "id": "d29ad7c4-6548-4e45-9e7c-dfd64f46a2fd",
   "metadata": {},
   "outputs": [
    {
     "name": "stdout",
     "output_type": "stream",
     "text": [
      "Random over-sampling:\n",
      "0    203\n",
      "1    203\n",
      "Name: classification, dtype: int64\n"
     ]
    },
    {
     "data": {
      "text/plain": [
       "0    203\n",
       "1    203\n",
       "Name: classification, dtype: int64"
      ]
     },
     "execution_count": 61,
     "metadata": {},
     "output_type": "execute_result"
    }
   ],
   "source": [
    "# Class count\n",
    "No_CKD, Yes_CKD = train_df.classification.value_counts()\n",
    "# Divide by class\n",
    "NO = train_df[train_df['classification'] == 0]\n",
    "YES= train_df[train_df['classification'] == 1]\n",
    "\n",
    "#Over-sampling\n",
    "YES_OVER = YES.sample(No_CKD, replace=True)\n",
    "df_test_over = pd.concat([NO, YES_OVER], axis=0)\n",
    "\n",
    "print('Random over-sampling:')\n",
    "print(df_test_over.classification.value_counts())\n",
    "\n",
    "df_test_over.classification.value_counts()"
   ]
  },
  {
   "cell_type": "markdown",
   "id": "dc9ab05d-e81d-4b79-81ca-2429f2b47cc3",
   "metadata": {},
   "source": [
    "## 4. Training our Models with the default values\n",
    "\n",
    "> We train each model using its default parameters, then calculate its performance metric - recall.\n",
    "\n",
    "> Performance Metric - Why Recall ? \n",
    "\n",
    "> Here FN means - Predicting that a person is not at the Risk of CKD, but they are the risk of CKD. "
   ]
  },
  {
   "cell_type": "markdown",
   "id": "b4187ac9-fe46-43d7-befa-4224768a4c9f",
   "metadata": {},
   "source": [
    "### 4.1 K-nn with Default Parameters"
   ]
  },
  {
   "cell_type": "code",
   "execution_count": 62,
   "id": "461761f1-0361-44fe-849d-99dcd6863373",
   "metadata": {
    "tags": []
   },
   "outputs": [
    {
     "name": "stdout",
     "output_type": "stream",
     "text": [
      "Classification Report\n",
      "              precision    recall  f1-score   support\n",
      "\n",
      "           0       0.81      0.62      0.70        47\n",
      "           1       0.59      0.79      0.68        33\n",
      "\n",
      "    accuracy                           0.69        80\n",
      "   macro avg       0.70      0.70      0.69        80\n",
      "weighted avg       0.72      0.69      0.69        80\n",
      "\n"
     ]
    }
   ],
   "source": [
    "knn_clf=KNeighborsClassifier()\n",
    "knn_clf.fit(X_train,y_train)\n",
    "ypred=knn_clf.predict(X_test)\n",
    "print(\"Classification Report\")\n",
    "print(classification_report(y_test, ypred))"
   ]
  },
  {
   "cell_type": "code",
   "execution_count": 70,
   "id": "b95db804-8f64-461d-934d-bb95c315417f",
   "metadata": {},
   "outputs": [
    {
     "name": "stdout",
     "output_type": "stream",
     "text": [
      "      Model             Score       \n",
      "************************************\n",
      "[[29 18]\n",
      " [ 7 26]]\n",
      "************************************\n",
      ">> Recall Score:   0.788\n",
      "Accuracy Score:   0.688\n",
      "Precision Score:  0.591\n",
      "F1 Score:         0.675\n"
     ]
    }
   ],
   "source": [
    "print(f\"{'Model':^18}{'Score':^18}\")\n",
    "print(\"************************************\")\n",
    "print(confusion_matrix(y_test, ypred))\n",
    "print(\"************************************\")\n",
    "print(f\"{'>> Recall Score:':18}{recall_score(y_test, ypred): .3f}\")\n",
    "print(f\"{'Accuracy Score: ':18}{accuracy_score(y_test, ypred):.3f}\")\n",
    "print(f\"{'Precision Score: ':18}{precision_score(y_test, ypred):.3f}\")\n",
    "print(f\"{'F1 Score: ':18}{f1_score(y_test, ypred):.3f}\")"
   ]
  },
  {
   "cell_type": "markdown",
   "id": "ba56836c-d833-48c8-bce2-17db1de9524c",
   "metadata": {},
   "source": [
    "### 4.2 DecisionTree with Default Parameters"
   ]
  },
  {
   "cell_type": "code",
   "execution_count": 71,
   "id": "80896e83-7dae-4aec-8067-1e947f8fec98",
   "metadata": {},
   "outputs": [
    {
     "name": "stdout",
     "output_type": "stream",
     "text": [
      "Classification Report\n",
      "              precision    recall  f1-score   support\n",
      "\n",
      "           0       0.96      0.96      0.96        47\n",
      "           1       0.94      0.94      0.94        33\n",
      "\n",
      "    accuracy                           0.95        80\n",
      "   macro avg       0.95      0.95      0.95        80\n",
      "weighted avg       0.95      0.95      0.95        80\n",
      "\n"
     ]
    }
   ],
   "source": [
    "dtree=DecisionTreeClassifier(random_state=1)\n",
    "dtree_fit= dtree.fit(X_train, y_train)\n",
    "dtpred = dtree.predict(X_test)\n",
    "print(\"Classification Report\")\n",
    "print(classification_report(y_test, dtpred))"
   ]
  },
  {
   "cell_type": "code",
   "execution_count": 72,
   "id": "818de123-70be-4bb1-ae3d-faa89617514a",
   "metadata": {},
   "outputs": [
    {
     "name": "stdout",
     "output_type": "stream",
     "text": [
      "************** DecisionTree Classifier **********************\n",
      "\n",
      "\n",
      "      Model             Score       \n",
      "**************************************\n",
      "[[45  2]\n",
      " [ 2 31]]\n",
      "************************************\n",
      ">> Recall Score:  0.9393939393939394\n",
      "Accuracy Score:   0.95\n",
      "Precision Score:  0.9393939393939394\n",
      "F1 Score:         0.9393939393939394\n"
     ]
    }
   ],
   "source": [
    "print(\"************** DecisionTree Classifier **********************\")\n",
    "print(\"\\n\")\n",
    "print(f\"{'Model':^18}{'Score':^18}\")\n",
    "print(\"**************************************\")\n",
    "print(confusion_matrix(y_test, dtpred))\n",
    "print(\"************************************\")\n",
    "print(f\"{'>> Recall Score:':18}{recall_score(y_test, dtpred)}\")\n",
    "print(f\"{'Accuracy Score: ':18}{accuracy_score(y_test, dtpred)}\")\n",
    "print(f\"{'Precision Score: ':18}{precision_score(y_test, dtpred)}\")\n",
    "print(f\"{'F1 Score: ':18}{f1_score(y_test, dtpred)}\")"
   ]
  },
  {
   "cell_type": "markdown",
   "id": "e72c6da4-92f6-440d-9c18-97ee1b3981d6",
   "metadata": {
    "tags": []
   },
   "source": [
    "### 4.3 Random Forest with Default Parameters"
   ]
  },
  {
   "cell_type": "code",
   "execution_count": 73,
   "id": "04f6685b-9eb7-4f1c-b7cd-6c169f0ec1fa",
   "metadata": {},
   "outputs": [
    {
     "name": "stdout",
     "output_type": "stream",
     "text": [
      "===================== Classification Report ===================\n",
      "              precision    recall  f1-score   support\n",
      "\n",
      "           0       0.98      0.94      0.96        47\n",
      "           1       0.91      0.97      0.94        33\n",
      "\n",
      "    accuracy                           0.95        80\n",
      "   macro avg       0.95      0.95      0.95        80\n",
      "weighted avg       0.95      0.95      0.95        80\n",
      "\n",
      "\n",
      "\n"
     ]
    }
   ],
   "source": [
    "# random forest model creation\n",
    "Randomforest = RandomForestClassifier()\n",
    "Randomforest.fit(X_train,y_train)\n",
    "# predictions\n",
    "rfpred = Randomforest.predict(X_test)\n",
    "\n",
    "print(\"===================== Classification Report ===================\")\n",
    "print(classification_report(y_test, rfpred))\n",
    "print('\\n')\n"
   ]
  },
  {
   "cell_type": "code",
   "execution_count": 74,
   "id": "f366c3af-85e5-47b3-8a19-0bc273dd18db",
   "metadata": {},
   "outputs": [
    {
     "name": "stdout",
     "output_type": "stream",
     "text": [
      "      Model             Score       \n",
      "************************************\n",
      ">> Recall Score:  0.9696969696969697\n",
      "Accuracy Score:   0.95\n",
      "Precision Score:  0.9142857142857143\n",
      "F1 Score:         0.9411764705882354\n"
     ]
    }
   ],
   "source": [
    "# random forest model\n",
    "print(f\"{'Model':^18}{'Score':^18}\")\n",
    "print(\"************************************\")\n",
    "print(f\"{'>> Recall Score:':18}{recall_score(y_test, rfpred)}\")\n",
    "print(f\"{'Accuracy Score: ':18}{accuracy_score(y_test, rfpred)}\")\n",
    "print(f\"{'Precision Score: ':18}{precision_score(y_test, rfpred)}\")\n",
    "print(f\"{'F1 Score: ':18}{f1_score(y_test, rfpred)}\")"
   ]
  },
  {
   "cell_type": "markdown",
   "id": "12b94c37-c353-48b1-ac83-abc6b1044f57",
   "metadata": {},
   "source": [
    "### 4.4 XGboost with Default Parameters"
   ]
  },
  {
   "cell_type": "code",
   "execution_count": 75,
   "id": "b1fd6a82-ca56-4fd1-92a3-9dc3d731612c",
   "metadata": {},
   "outputs": [
    {
     "name": "stdout",
     "output_type": "stream",
     "text": [
      "[16:16:46] WARNING: C:\\Windows\\Temp\\abs_557yfx631l\\croots\\recipe\\xgboost-split_1659548953302\\work\\src\\learner.cc:1115: Starting in XGBoost 1.3.0, the default evaluation metric used with the objective 'binary:logistic' was changed from 'error' to 'logloss'. Explicitly set eval_metric if you'd like to restore the old behavior.\n"
     ]
    }
   ],
   "source": [
    "#Train the XGboost Model for Classification\n",
    "XGboost = xgb.XGBClassifier()\n",
    "train_XGBoost = XGboost.fit(X_train, y_train)"
   ]
  },
  {
   "cell_type": "code",
   "execution_count": 77,
   "id": "08144c75-6352-4c66-bb09-b0229fbea972",
   "metadata": {},
   "outputs": [
    {
     "name": "stdout",
     "output_type": "stream",
     "text": [
      "=========================== Classification Report ================================\n",
      "              precision    recall  f1-score   support\n",
      "\n",
      "           0       0.98      0.96      0.97        47\n",
      "           1       0.94      0.97      0.96        33\n",
      "\n",
      "    accuracy                           0.96        80\n",
      "   macro avg       0.96      0.96      0.96        80\n",
      "weighted avg       0.96      0.96      0.96        80\n",
      "\n",
      "\n",
      "\n"
     ]
    }
   ],
   "source": [
    "xgpred = train_XGBoost.predict(X_test)\n",
    "print(\"=========================== Classification Report ================================\")\n",
    "print(classification_report(y_test, xgpred))\n",
    "print('\\n')"
   ]
  },
  {
   "cell_type": "code",
   "execution_count": 78,
   "id": "540135c1-acac-4fbc-abea-709a9a6c4752",
   "metadata": {},
   "outputs": [
    {
     "name": "stdout",
     "output_type": "stream",
     "text": [
      "      Model             Score       \n",
      "************************************\n",
      ">> Recall Score:  0.9696969696969697\n",
      "Accuracy Score:   0.9625\n",
      "Precision Score:  0.9411764705882353\n",
      "F1 Score:         0.955223880597015\n"
     ]
    }
   ],
   "source": [
    "print(f\"{'Model':^18}{'Score':^18}\")\n",
    "print(\"************************************\")\n",
    "print(f\"{'>> Recall Score:':18}{recall_score(y_test, xgpred)}\")\n",
    "print(f\"{'Accuracy Score: ':18}{accuracy_score(y_test, xgpred)}\")\n",
    "print(f\"{'Precision Score: ':18}{precision_score(y_test, xgpred)}\")\n",
    "print(f\"{'F1 Score: ':18}{f1_score(y_test, xgpred)}\")"
   ]
  },
  {
   "cell_type": "markdown",
   "id": "ec8828e6-d5c5-4eed-81b5-36362a13eeed",
   "metadata": {
    "tags": []
   },
   "source": [
    "### 4.5 Adaboost with Default Parameters"
   ]
  },
  {
   "cell_type": "code",
   "execution_count": 65,
   "id": "43dfcaa8-9572-4f1f-b120-d15d6a7ea00a",
   "metadata": {},
   "outputs": [
    {
     "name": "stdout",
     "output_type": "stream",
     "text": [
      "=================================== Classification Report =================================\n",
      "              precision    recall  f1-score   support\n",
      "\n",
      "           0       0.98      0.96      0.97        47\n",
      "           1       0.94      0.97      0.96        33\n",
      "\n",
      "    accuracy                           0.96        80\n",
      "   macro avg       0.96      0.96      0.96        80\n",
      "weighted avg       0.96      0.96      0.96        80\n",
      "\n",
      "\n",
      "\n"
     ]
    }
   ],
   "source": [
    "# Create adaboost classifer object\n",
    "Adaboost = AdaBoostClassifier(n_estimators=50,learning_rate=1)\n",
    "# Train Adaboost Classifer\n",
    "Adaboost_fit=Adaboost.fit(X_train, y_train)\n",
    "\n",
    "#Predict the response for test dataset\n",
    "adapred = Adaboost_fit.predict(X_test)\n",
    "print(\"=================================== Classification Report =================================\")\n",
    "print(classification_report(y_test, adapred))\n",
    "print('\\n')"
   ]
  },
  {
   "cell_type": "code",
   "execution_count": 66,
   "id": "16221fdb-8903-4fe0-9e09-c6a92680b510",
   "metadata": {
    "scrolled": true
   },
   "outputs": [
    {
     "name": "stdout",
     "output_type": "stream",
     "text": [
      "      Model             Score       \n",
      "************************************\n",
      ">> Recall Score:  0.9696969696969697\n",
      "Accuracy Score:   0.9625\n",
      "Precision Score:  0.9411764705882353\n",
      "F1 Score:         0.955223880597015\n"
     ]
    }
   ],
   "source": [
    "print(f\"{'Model':^18}{'Score':^18}\")\n",
    "print(\"************************************\")\n",
    "print(f\"{'>> Recall Score:':18}{recall_score(y_test, adapred)}\")\n",
    "print(f\"{'Accuracy Score: ':18}{accuracy_score(y_test, adapred)}\")\n",
    "print(f\"{'Precision Score: ':18}{precision_score(y_test, adapred)}\")\n",
    "print(f\"{'F1 Score: ':18}{f1_score(y_test, adapred)}\")"
   ]
  },
  {
   "cell_type": "markdown",
   "id": "7d619d73",
   "metadata": {},
   "source": [
    "### 4.6 Logistic Regression"
   ]
  },
  {
   "cell_type": "code",
   "execution_count": 67,
   "id": "fd4cf101-7bac-471b-a849-8f528cb04320",
   "metadata": {},
   "outputs": [],
   "source": [
    "logReg = LogisticRegression()"
   ]
  },
  {
   "cell_type": "code",
   "execution_count": 68,
   "id": "b41533b2-00e5-449a-b4c2-d13ec4573b03",
   "metadata": {},
   "outputs": [
    {
     "data": {
      "text/html": [
       "<style>#sk-container-id-1 {color: black;background-color: white;}#sk-container-id-1 pre{padding: 0;}#sk-container-id-1 div.sk-toggleable {background-color: white;}#sk-container-id-1 label.sk-toggleable__label {cursor: pointer;display: block;width: 100%;margin-bottom: 0;padding: 0.3em;box-sizing: border-box;text-align: center;}#sk-container-id-1 label.sk-toggleable__label-arrow:before {content: \"▸\";float: left;margin-right: 0.25em;color: #696969;}#sk-container-id-1 label.sk-toggleable__label-arrow:hover:before {color: black;}#sk-container-id-1 div.sk-estimator:hover label.sk-toggleable__label-arrow:before {color: black;}#sk-container-id-1 div.sk-toggleable__content {max-height: 0;max-width: 0;overflow: hidden;text-align: left;background-color: #f0f8ff;}#sk-container-id-1 div.sk-toggleable__content pre {margin: 0.2em;color: black;border-radius: 0.25em;background-color: #f0f8ff;}#sk-container-id-1 input.sk-toggleable__control:checked~div.sk-toggleable__content {max-height: 200px;max-width: 100%;overflow: auto;}#sk-container-id-1 input.sk-toggleable__control:checked~label.sk-toggleable__label-arrow:before {content: \"▾\";}#sk-container-id-1 div.sk-estimator input.sk-toggleable__control:checked~label.sk-toggleable__label {background-color: #d4ebff;}#sk-container-id-1 div.sk-label input.sk-toggleable__control:checked~label.sk-toggleable__label {background-color: #d4ebff;}#sk-container-id-1 input.sk-hidden--visually {border: 0;clip: rect(1px 1px 1px 1px);clip: rect(1px, 1px, 1px, 1px);height: 1px;margin: -1px;overflow: hidden;padding: 0;position: absolute;width: 1px;}#sk-container-id-1 div.sk-estimator {font-family: monospace;background-color: #f0f8ff;border: 1px dotted black;border-radius: 0.25em;box-sizing: border-box;margin-bottom: 0.5em;}#sk-container-id-1 div.sk-estimator:hover {background-color: #d4ebff;}#sk-container-id-1 div.sk-parallel-item::after {content: \"\";width: 100%;border-bottom: 1px solid gray;flex-grow: 1;}#sk-container-id-1 div.sk-label:hover label.sk-toggleable__label {background-color: #d4ebff;}#sk-container-id-1 div.sk-serial::before {content: \"\";position: absolute;border-left: 1px solid gray;box-sizing: border-box;top: 0;bottom: 0;left: 50%;z-index: 0;}#sk-container-id-1 div.sk-serial {display: flex;flex-direction: column;align-items: center;background-color: white;padding-right: 0.2em;padding-left: 0.2em;position: relative;}#sk-container-id-1 div.sk-item {position: relative;z-index: 1;}#sk-container-id-1 div.sk-parallel {display: flex;align-items: stretch;justify-content: center;background-color: white;position: relative;}#sk-container-id-1 div.sk-item::before, #sk-container-id-1 div.sk-parallel-item::before {content: \"\";position: absolute;border-left: 1px solid gray;box-sizing: border-box;top: 0;bottom: 0;left: 50%;z-index: -1;}#sk-container-id-1 div.sk-parallel-item {display: flex;flex-direction: column;z-index: 1;position: relative;background-color: white;}#sk-container-id-1 div.sk-parallel-item:first-child::after {align-self: flex-end;width: 50%;}#sk-container-id-1 div.sk-parallel-item:last-child::after {align-self: flex-start;width: 50%;}#sk-container-id-1 div.sk-parallel-item:only-child::after {width: 0;}#sk-container-id-1 div.sk-dashed-wrapped {border: 1px dashed gray;margin: 0 0.4em 0.5em 0.4em;box-sizing: border-box;padding-bottom: 0.4em;background-color: white;}#sk-container-id-1 div.sk-label label {font-family: monospace;font-weight: bold;display: inline-block;line-height: 1.2em;}#sk-container-id-1 div.sk-label-container {text-align: center;}#sk-container-id-1 div.sk-container {/* jupyter's `normalize.less` sets `[hidden] { display: none; }` but bootstrap.min.css set `[hidden] { display: none !important; }` so we also need the `!important` here to be able to override the default hidden behavior on the sphinx rendered scikit-learn.org. See: https://github.com/scikit-learn/scikit-learn/issues/21755 */display: inline-block !important;position: relative;}#sk-container-id-1 div.sk-text-repr-fallback {display: none;}</style><div id=\"sk-container-id-1\" class=\"sk-top-container\"><div class=\"sk-text-repr-fallback\"><pre>LogisticRegression()</pre><b>In a Jupyter environment, please rerun this cell to show the HTML representation or trust the notebook. <br />On GitHub, the HTML representation is unable to render, please try loading this page with nbviewer.org.</b></div><div class=\"sk-container\" hidden><div class=\"sk-item\"><div class=\"sk-estimator sk-toggleable\"><input class=\"sk-toggleable__control sk-hidden--visually\" id=\"sk-estimator-id-1\" type=\"checkbox\" checked><label for=\"sk-estimator-id-1\" class=\"sk-toggleable__label sk-toggleable__label-arrow\">LogisticRegression</label><div class=\"sk-toggleable__content\"><pre>LogisticRegression()</pre></div></div></div></div></div>"
      ],
      "text/plain": [
       "LogisticRegression()"
      ]
     },
     "execution_count": 68,
     "metadata": {},
     "output_type": "execute_result"
    }
   ],
   "source": [
    "logReg.fit(X_train,y_train)"
   ]
  },
  {
   "cell_type": "code",
   "execution_count": 69,
   "id": "eae4b6c0-2424-459b-992e-59c50a656811",
   "metadata": {},
   "outputs": [],
   "source": [
    "# X_train,y_trainlogClassifier=LogisticRegression(random_state=1) # Create the model\n",
    "# _ = logClassifier.fit() # fit the model to training data. NOTE: underscore is a dummy variable that is useed to suppress output"
   ]
  },
  {
   "cell_type": "code",
   "execution_count": 70,
   "id": "5ec0a397-d0ad-4331-8e6f-cb9b1d9daef4",
   "metadata": {},
   "outputs": [],
   "source": [
    "pred = logReg.predict(X_test)"
   ]
  },
  {
   "cell_type": "code",
   "execution_count": 71,
   "id": "67e6d9fa-ded2-4a41-b682-f35ff526093c",
   "metadata": {},
   "outputs": [
    {
     "name": "stdout",
     "output_type": "stream",
     "text": [
      "0.9\n"
     ]
    }
   ],
   "source": [
    "score = logReg.score(X_test, y_test)\n",
    "print(score)"
   ]
  },
  {
   "cell_type": "markdown",
   "id": "b0a7c8b6-b385-4489-809b-0732c30bdafe",
   "metadata": {},
   "source": [
    "#### Confusion Matrix "
   ]
  },
  {
   "cell_type": "code",
   "execution_count": 72,
   "id": "f3259081-db08-40f1-b1d2-bae3f9cfafb5",
   "metadata": {},
   "outputs": [
    {
     "name": "stdout",
     "output_type": "stream",
     "text": [
      "[[40  7]\n",
      " [ 1 32]]\n"
     ]
    }
   ],
   "source": [
    "from sklearn import metrics\n",
    "cm = metrics.confusion_matrix(y_test, pred)\n",
    "print(cm)"
   ]
  },
  {
   "cell_type": "code",
   "execution_count": 73,
   "id": "ba7d17e4-39d5-4b5b-9c26-efb3c0df5654",
   "metadata": {},
   "outputs": [],
   "source": [
    "import warnings #Just to ignore all the warnings\n",
    "warnings.filterwarnings(\"ignore\")"
   ]
  },
  {
   "cell_type": "code",
   "execution_count": 74,
   "id": "c0853c13-c94e-421c-ae98-8f1dc7695228",
   "metadata": {},
   "outputs": [
    {
     "name": "stdout",
     "output_type": "stream",
     "text": [
      "[[40  7]\n",
      " [ 1 32]]\n",
      "***********************\n",
      "Recall Score:     0.970\n",
      "***********************\n",
      "Accuracy Score:   0.900\n",
      "Precision Score:  0.821\n",
      "F1 Score:         0.889\n"
     ]
    }
   ],
   "source": [
    "y_pred = logReg.predict(X_test)\n",
    "print(confusion_matrix(y_test, y_pred))\n",
    "print(\"***********************\")\n",
    "print(f\"{'Recall Score:':18}{recall_score(y_test, y_pred):.3f}\")\n",
    "print(\"***********************\")\n",
    "print(f\"{'Accuracy Score: ':18}{accuracy_score(y_test, y_pred):.3f}\")\n",
    "print(f\"{'Precision Score: ':18}{precision_score(y_test, y_pred):.3f}\")\n",
    "print(f\"{'F1 Score: ':18}{f1_score(y_test, y_pred):.3f}\")"
   ]
  },
  {
   "cell_type": "markdown",
   "id": "aab3c06d-b337-4ce5-9018-fc83fa8f4a37",
   "metadata": {},
   "source": [
    "### 4.7 Training MLP\n",
    "Multi-layer Perceptron classifier.This model optimizes the log-loss function using LBFGS or stochastic gradient descent.\n",
    "\n",
    "*  Hidden_layer_sizestuple, length = n_layers - 2, default=(100,)\n",
    "The ith element represents the number of neurons in the ith hidden layer.\n",
    "\n",
    "*  solver{‘lbfgs’, ‘sgd’, ‘adam’}, default=’adam’\n",
    "The solver for weight optimization.\n",
    "‘lbfgs’ is an optimizer in the family of quasi-Newton methods.\n",
    "‘sgd’ refers to stochastic gradient descent.\n",
    "‘adam’ refers to a stochastic gradient-based optimizer proposed by Kingma, Diederik, and Jimmy Ba.\n",
    "\n",
    "*  verbosebool, default=False\n",
    "Whether to print progress messages to stdout.\n",
    " \n",
    "*  alphafloat, default=0.0001\n",
    "Strength of the L2 regularization term. The L2 regularization term is divided by the sample size when added to the loss."
   ]
  },
  {
   "cell_type": "code",
   "execution_count": 75,
   "id": "0a5696f9-2c5c-43fb-83f8-860c24037f7b",
   "metadata": {},
   "outputs": [
    {
     "name": "stdout",
     "output_type": "stream",
     "text": [
      "CPU times: total: 203 ms\n",
      "Wall time: 82.1 ms\n"
     ]
    }
   ],
   "source": [
    "%%time\n",
    "ann = MLPClassifier(hidden_layer_sizes=(36,18,9), solver='adam', max_iter=1200,random_state =1)\n",
    "_ = ann.fit(X_train, y_train)"
   ]
  },
  {
   "cell_type": "code",
   "execution_count": 76,
   "id": "5888d3f8-d12d-4e52-96ff-f1643a5689e4",
   "metadata": {},
   "outputs": [
    {
     "name": "stdout",
     "output_type": "stream",
     "text": [
      "CPU times: total: 0 ns\n",
      "Wall time: 2.62 ms\n"
     ]
    }
   ],
   "source": [
    "%%time\n",
    "y_pred = ann.predict(X_test)"
   ]
  },
  {
   "cell_type": "code",
   "execution_count": 77,
   "id": "2cb6e446-9aec-402c-9fbb-312caa402082",
   "metadata": {},
   "outputs": [
    {
     "name": "stdout",
     "output_type": "stream",
     "text": [
      "              precision    recall  f1-score   support\n",
      "\n",
      "           0       1.00      0.74      0.85        47\n",
      "           1       0.73      1.00      0.85        33\n",
      "\n",
      "    accuracy                           0.85        80\n",
      "   macro avg       0.87      0.87      0.85        80\n",
      "weighted avg       0.89      0.85      0.85        80\n",
      "\n"
     ]
    }
   ],
   "source": [
    "print(classification_report(y_test, y_pred))"
   ]
  },
  {
   "cell_type": "code",
   "execution_count": 78,
   "id": "d890ccbd",
   "metadata": {},
   "outputs": [
    {
     "data": {
      "text/plain": [
       "array([[35, 12],\n",
       "       [ 0, 33]], dtype=int64)"
      ]
     },
     "execution_count": 78,
     "metadata": {},
     "output_type": "execute_result"
    }
   ],
   "source": [
    "confusion_matrix(y_test, y_pred)"
   ]
  },
  {
   "cell_type": "code",
   "execution_count": 79,
   "id": "2d6e26fd",
   "metadata": {
    "scrolled": true
   },
   "outputs": [
    {
     "name": "stdout",
     "output_type": "stream",
     "text": [
      "[[35 12]\n",
      " [ 0 33]]\n",
      "***********************\n",
      "Accuracy Score:   0.850\n",
      "***********************\n",
      "Recall Score:     1.000\n",
      "Precision Score:  0.733\n",
      "F1 Score:         0.846\n",
      "***********************\n"
     ]
    }
   ],
   "source": [
    "y_pred = ann.predict(X_test)\n",
    "print(confusion_matrix(y_test, y_pred))\n",
    "print(\"***********************\")\n",
    "print(f\"{'Accuracy Score: ':18}{accuracy_score(y_test, y_pred):.3f}\")\n",
    "print(\"***********************\")\n",
    "print(f\"{'Recall Score:':18}{recall_score(y_test, y_pred):.3f}\")\n",
    "print(f\"{'Precision Score: ':18}{precision_score(y_test, y_pred):.3f}\")\n",
    "print(f\"{'F1 Score: ':18}{f1_score(y_test, y_pred):.3f}\")\n",
    "print(\"***********************\")"
   ]
  },
  {
   "cell_type": "markdown",
   "id": "22323f64-e8f9-4ad5-b5dd-3c1f94791a1c",
   "metadata": {},
   "source": [
    "## 5. Hypertuning the Models "
   ]
  },
  {
   "cell_type": "markdown",
   "id": "0bbec36a-f6e3-4dd0-ad78-adef5bd1be1b",
   "metadata": {},
   "source": [
    "### 5.1 Training a pruned Decision Tree using GridsearchCv: \n",
    "Determine the parameters that can be \"tuned\"\n",
    "\n",
    "You can review the parameters of the model which you're trying to \"tune\". In this case, we're using a DecisionTreeClassifier. Begin by reviewing the parameters for this model found here fter reviewing these parameters (while also understanding something about DecisionTrees), we can identify the following parameters that could affect model fit.\n",
    "\n",
    "\n",
    "*   criterion\n",
    "*   max_depth\n",
    "*   min_samples_split\n",
    "*   min_samples_leaf\n",
    "*   max_leaf_nodes\n",
    "*   min_impurity_decrease"
   ]
  },
  {
   "cell_type": "code",
   "execution_count": 80,
   "id": "dcd9bdfa-ccd4-4c80-8e7b-93386be059f8",
   "metadata": {},
   "outputs": [],
   "source": [
    "dtree=DecisionTreeClassifier(random_state=1)\n",
    "_ = dtree.fit(X,y)"
   ]
  },
  {
   "cell_type": "code",
   "execution_count": 81,
   "id": "ea622fa0-b1a1-4086-a51f-7cc426a07a34",
   "metadata": {},
   "outputs": [
    {
     "data": {
      "text/html": [
       "<style>#sk-container-id-2 {color: black;background-color: white;}#sk-container-id-2 pre{padding: 0;}#sk-container-id-2 div.sk-toggleable {background-color: white;}#sk-container-id-2 label.sk-toggleable__label {cursor: pointer;display: block;width: 100%;margin-bottom: 0;padding: 0.3em;box-sizing: border-box;text-align: center;}#sk-container-id-2 label.sk-toggleable__label-arrow:before {content: \"▸\";float: left;margin-right: 0.25em;color: #696969;}#sk-container-id-2 label.sk-toggleable__label-arrow:hover:before {color: black;}#sk-container-id-2 div.sk-estimator:hover label.sk-toggleable__label-arrow:before {color: black;}#sk-container-id-2 div.sk-toggleable__content {max-height: 0;max-width: 0;overflow: hidden;text-align: left;background-color: #f0f8ff;}#sk-container-id-2 div.sk-toggleable__content pre {margin: 0.2em;color: black;border-radius: 0.25em;background-color: #f0f8ff;}#sk-container-id-2 input.sk-toggleable__control:checked~div.sk-toggleable__content {max-height: 200px;max-width: 100%;overflow: auto;}#sk-container-id-2 input.sk-toggleable__control:checked~label.sk-toggleable__label-arrow:before {content: \"▾\";}#sk-container-id-2 div.sk-estimator input.sk-toggleable__control:checked~label.sk-toggleable__label {background-color: #d4ebff;}#sk-container-id-2 div.sk-label input.sk-toggleable__control:checked~label.sk-toggleable__label {background-color: #d4ebff;}#sk-container-id-2 input.sk-hidden--visually {border: 0;clip: rect(1px 1px 1px 1px);clip: rect(1px, 1px, 1px, 1px);height: 1px;margin: -1px;overflow: hidden;padding: 0;position: absolute;width: 1px;}#sk-container-id-2 div.sk-estimator {font-family: monospace;background-color: #f0f8ff;border: 1px dotted black;border-radius: 0.25em;box-sizing: border-box;margin-bottom: 0.5em;}#sk-container-id-2 div.sk-estimator:hover {background-color: #d4ebff;}#sk-container-id-2 div.sk-parallel-item::after {content: \"\";width: 100%;border-bottom: 1px solid gray;flex-grow: 1;}#sk-container-id-2 div.sk-label:hover label.sk-toggleable__label {background-color: #d4ebff;}#sk-container-id-2 div.sk-serial::before {content: \"\";position: absolute;border-left: 1px solid gray;box-sizing: border-box;top: 0;bottom: 0;left: 50%;z-index: 0;}#sk-container-id-2 div.sk-serial {display: flex;flex-direction: column;align-items: center;background-color: white;padding-right: 0.2em;padding-left: 0.2em;position: relative;}#sk-container-id-2 div.sk-item {position: relative;z-index: 1;}#sk-container-id-2 div.sk-parallel {display: flex;align-items: stretch;justify-content: center;background-color: white;position: relative;}#sk-container-id-2 div.sk-item::before, #sk-container-id-2 div.sk-parallel-item::before {content: \"\";position: absolute;border-left: 1px solid gray;box-sizing: border-box;top: 0;bottom: 0;left: 50%;z-index: -1;}#sk-container-id-2 div.sk-parallel-item {display: flex;flex-direction: column;z-index: 1;position: relative;background-color: white;}#sk-container-id-2 div.sk-parallel-item:first-child::after {align-self: flex-end;width: 50%;}#sk-container-id-2 div.sk-parallel-item:last-child::after {align-self: flex-start;width: 50%;}#sk-container-id-2 div.sk-parallel-item:only-child::after {width: 0;}#sk-container-id-2 div.sk-dashed-wrapped {border: 1px dashed gray;margin: 0 0.4em 0.5em 0.4em;box-sizing: border-box;padding-bottom: 0.4em;background-color: white;}#sk-container-id-2 div.sk-label label {font-family: monospace;font-weight: bold;display: inline-block;line-height: 1.2em;}#sk-container-id-2 div.sk-label-container {text-align: center;}#sk-container-id-2 div.sk-container {/* jupyter's `normalize.less` sets `[hidden] { display: none; }` but bootstrap.min.css set `[hidden] { display: none !important; }` so we also need the `!important` here to be able to override the default hidden behavior on the sphinx rendered scikit-learn.org. See: https://github.com/scikit-learn/scikit-learn/issues/21755 */display: inline-block !important;position: relative;}#sk-container-id-2 div.sk-text-repr-fallback {display: none;}</style><div id=\"sk-container-id-2\" class=\"sk-top-container\"><div class=\"sk-text-repr-fallback\"><pre>DecisionTreeClassifier(random_state=1)</pre><b>In a Jupyter environment, please rerun this cell to show the HTML representation or trust the notebook. <br />On GitHub, the HTML representation is unable to render, please try loading this page with nbviewer.org.</b></div><div class=\"sk-container\" hidden><div class=\"sk-item\"><div class=\"sk-estimator sk-toggleable\"><input class=\"sk-toggleable__control sk-hidden--visually\" id=\"sk-estimator-id-2\" type=\"checkbox\" checked><label for=\"sk-estimator-id-2\" class=\"sk-toggleable__label sk-toggleable__label-arrow\">DecisionTreeClassifier</label><div class=\"sk-toggleable__content\"><pre>DecisionTreeClassifier(random_state=1)</pre></div></div></div></div></div>"
      ],
      "text/plain": [
       "DecisionTreeClassifier(random_state=1)"
      ]
     },
     "execution_count": 81,
     "metadata": {},
     "output_type": "execute_result"
    }
   ],
   "source": [
    "dtree.fit(X_train, y_train)"
   ]
  },
  {
   "cell_type": "code",
   "execution_count": 82,
   "id": "949d2bea-7526-4fd7-9fa8-d7eadb6a9617",
   "metadata": {},
   "outputs": [
    {
     "name": "stdout",
     "output_type": "stream",
     "text": [
      "recall score:  0.9572649572649571\n",
      "parameters:  {'max_depth': 2, 'min_impurity_decrease': 0, 'min_samples_split': 2}\n"
     ]
    }
   ],
   "source": [
    "score_measure = 'recall'\n",
    "k_fold = 3\n",
    "# Start with an initial guess for parameters\n",
    "param_grid = {\n",
    "    'max_depth': [2, 5, 10, 20, 30, 40], \n",
    "    'min_samples_split': [2, 5, 10, 20, 40, 60, 80, 100], \n",
    "    'min_impurity_decrease': [0, 0.0005, 0.001, 0.005, 0.01], \n",
    "}\n",
    "gridSearch = GridSearchCV(DecisionTreeClassifier(random_state=1), param_grid, cv=k_fold, scoring=score_measure,\n",
    "                          n_jobs=-1)  # n_jobs=-1 will utilize all available CPUs \n",
    "gridSearch.fit(X_train, y_train)\n",
    "print(score_measure, 'score: ', gridSearch.best_score_)\n",
    "print('parameters: ', gridSearch.best_params_)\n",
    "\n",
    "\n",
    "\n",
    "bestRecallTree = gridSearch.best_estimator_"
   ]
  },
  {
   "cell_type": "markdown",
   "id": "9ef295ae-73e2-453e-9ca0-9675fb82cc4f",
   "metadata": {},
   "source": [
    "### 5.2 Training a RandomForest using RandomizedserachCv\n",
    "Like all our classifiers, RandomeForestClassifier has a number of parameters that can be adjusted/tuned.\n",
    "\n",
    "*   n_estimators: The number of trees in the forsest\n",
    "A deeper tree might increase the performance, but also the complexity and chances to overfit.\n",
    "The value must be an integer greater than 0. Default is 100.\n",
    "*   max_depth: The maximum depth per tree.\n",
    "Deeper trees might increase the performance, but also the complexity and chances to overfit.\n",
    "The value must be an integer greater than 0. Default is None, which allows the tree to grow without constraint.\n",
    "*   criterion\n",
    "*   min_samples_split\n",
    "*   min_samples_leaf\n",
    "*   max_leaf_nodes\n",
    "*   min_impurity_decrease"
   ]
  },
  {
   "cell_type": "markdown",
   "id": "e10d5519-a976-4a85-994c-ff31e1c72c05",
   "metadata": {},
   "source": [
    "#### Create an initial 'wide' range of possible hyperparameter values"
   ]
  },
  {
   "cell_type": "code",
   "execution_count": 83,
   "id": "c0520af9-0d72-41f4-aa2e-fb5f4a18d29e",
   "metadata": {},
   "outputs": [],
   "source": [
    "criterion = ['gini', 'entropy']\n",
    "max_depth = [int(x) for x in np.linspace(1, 500, 50)]\n",
    "min_samples_split = [int(x) for x in np.linspace(2, 500, 50)]\n",
    "min_samples_leaf = [int(x) for x in np.linspace(1, 100, 50)]\n",
    "max_leaf_nodes = [int(x) for x in np.linspace(2, len(y_test), 50)]\n",
    "min_impurity_decrease = [x for x in np.arange(0.0, 0.01, 0.0001).round(5)]\n",
    "param_grid_random = { \n",
    "                      'criterion': criterion,\n",
    "                      'max_depth': max_depth,\n",
    "                      'min_samples_split': min_samples_split,\n",
    "                      'min_samples_leaf' : min_samples_leaf,\n",
    "                      'max_leaf_nodes' : max_leaf_nodes,\n",
    "                      'min_impurity_decrease' : min_impurity_decrease,\n",
    "                     }"
   ]
  },
  {
   "cell_type": "markdown",
   "id": "2f9984ea-7bc4-4e2a-8a32-ca1ec63bc991",
   "metadata": {},
   "source": [
    "#### Using Randomize Search to narrow the possible range of parameter values"
   ]
  },
  {
   "cell_type": "code",
   "execution_count": 84,
   "id": "923e6974-d28e-4f73-80dc-cd704f50be06",
   "metadata": {},
   "outputs": [],
   "source": [
    "random_seed=11\n",
    "randomtree_default = RandomForestClassifier(random_state=random_seed)\n",
    "\n",
    "best_random_search_model = RandomizedSearchCV(\n",
    "        estimator=RandomForestClassifier(random_state=random_seed), \n",
    "        scoring='recall', \n",
    "        param_distributions=param_grid_random, \n",
    "        n_iter = 2000, \n",
    "        cv=10, \n",
    "        verbose=0, \n",
    "        n_jobs = -1,\n",
    "        random_state=random_seed\n",
    "    )\n",
    "best_random_search_rtree_model = best_random_search_model.fit(X_train, y_train)"
   ]
  },
  {
   "cell_type": "code",
   "execution_count": 85,
   "id": "6ce81ab4-cd5c-4780-892a-7ee8500db635",
   "metadata": {},
   "outputs": [
    {
     "name": "stdout",
     "output_type": "stream",
     "text": [
      "Best parameters found:  {'min_samples_split': 32, 'min_samples_leaf': 55, 'min_impurity_decrease': 0.0033, 'max_leaf_nodes': 24, 'max_depth': 275, 'criterion': 'entropy'}\n"
     ]
    }
   ],
   "source": [
    "random_search_best_rtree_params = best_random_search_model.best_params_\n",
    "print('Best parameters found: ', random_search_best_rtree_params)"
   ]
  },
  {
   "cell_type": "code",
   "execution_count": 86,
   "id": "923e10c4-2a15-4106-88f1-09177a4682e5",
   "metadata": {},
   "outputs": [
    {
     "name": "stdout",
     "output_type": "stream",
     "text": [
      "************************************\n",
      "Recall Score:     0.9375\n",
      "************************************\n",
      "Accuracy Score:   0.9375\n",
      "Precision Score:  0.9408143939393939\n",
      "F1 Score:         0.9378284758719542\n",
      "************************************\n"
     ]
    }
   ],
   "source": [
    "y_pred = best_random_search_rtree_model.predict(X_test)\n",
    "\n",
    "print(\"************************************\")\n",
    "print(f\"{'Recall Score:':18}{recall_score(y_test, y_pred,average='weighted')}\")\n",
    "print(\"************************************\")\n",
    "print(f\"{'Accuracy Score: ':18}{accuracy_score(y_test, y_pred)}\")\n",
    "print(f\"{'Precision Score: ':18}{precision_score(y_test, y_pred,average='weighted')}\")\n",
    "print(f\"{'F1 Score: ':18}{f1_score(y_test, y_pred,average='weighted')}\")\n",
    "\n",
    "print(\"************************************\")"
   ]
  },
  {
   "cell_type": "markdown",
   "id": "3b11c9bb-8313-4106-be9c-72e8243a62d5",
   "metadata": {},
   "source": [
    "## 5.3 Training  AdaBoost using GridsearchCv:\n",
    "#### You can review the parameters of the model which you're trying to \"tune\". In this case, we're using a AdaBoost Classifier. Begin by reviewing the parameters for this model found here fter reviewing these parameters, we can identify the following parameters that could affect model fit.\n",
    "\n",
    "\n",
    "\n",
    "*  max_depth: The maximum depth per tree.A deeper tree might increase the performance, but also the complexity and chances to overfit.\n",
    "The value must be an integer greater than 0. Default is None (meaning, the tree can grow to a point where all leaves have 1 observation). \n",
    "\n",
    "* learning_rate: The learning rate determines the step size at each iteration while your model optimizes toward its objective.\n",
    "A low learning rate makes computation slower, and requires more rounds to achieve the same reduction in residual error as a model with a high learning rate,but it optimizes the chances to reach the best optimum.\n",
    "\n",
    "Larger learning rates may not converge on a solution.\n",
    "The value must be between 0 and 1. Default is 0.3.\n",
    "\n",
    "* n_estimators: The number of trees in our ensemble.\n",
    "Equivalent to the number of boosting rounds.\n",
    "The value must be an integer greater than 0. Default is 100."
   ]
  },
  {
   "cell_type": "code",
   "execution_count": 88,
   "id": "2dab2b48-21ee-4812-8eb6-f8a6a734f229",
   "metadata": {},
   "outputs": [
    {
     "name": "stdout",
     "output_type": "stream",
     "text": [
      "Fitting 5 folds for each of 16 candidates, totalling 80 fits\n",
      "recall score:  0.9916666666666666\n",
      "parameters:  {'learning_rate': 0.1, 'n_estimators': 100}\n"
     ]
    }
   ],
   "source": [
    "#AdaBoostClassifier\n",
    "param_grid = {\n",
    "           'learning_rate': [0.001, 0.01, 0.1, 1.0],\n",
    "           'n_estimators': [10, 50, 100, 250]\n",
    "              }\n",
    "best_grid_search_model = GridSearchCV(estimator=AdaBoostClassifier(random_state=3),\n",
    "                                    scoring='recall', param_grid=param_grid, verbose=1,  n_jobs = -1)\n",
    "_ = best_grid_search_model.fit(X_train, y_train)\n",
    "print('recall', 'score: ', best_grid_search_model.best_score_)\n",
    "print('parameters: ', best_grid_search_model.best_params_)"
   ]
  },
  {
   "cell_type": "markdown",
   "id": "95e8e6cb-c0e8-497c-b2a3-873bee78884c",
   "metadata": {},
   "source": [
    "## 5.4 Training  XGBoost using GridSearchCV:\n",
    "Like all our classifiers, XGBoost has a number of parameters that can be adjusted/tuned. In this example below, we simply accept the defaults. You may want to experiment with changing the defaul values and also use GridSearchCV to explore ranges of values\n",
    "\n",
    "* max_depth: The maximum depth per tree.A deeper tree might increase the performance, but also the complexity and chances to overfit.The value must be an integer greater than 0. Default is 6.\n",
    "\n",
    "* learning_rate: The learning rate determines the step size at each iteration while your model optimizes toward its objective.A low learning rate makes computation slower, and requires more rounds to achieve the same reduction in residual error as a model with a high learning rate,but it optimizes the chances to reach the best optimum.\n",
    "The value must be between 0 and 1. Default is 0.3.\n",
    "\n",
    "* n_estimators: The number of trees in our ensemble.Equivalent to the number of boosting rounds.The value must be an integer greater than 0. Default is 100.\n",
    "\n",
    "* colsample_bytree: Represents the fraction of columns to be randomly sampled for each tree.It might improve overfitting.The value must be between 0 and 1. Default is 1.\n",
    "\n",
    "* subsample: Represents the fraction of observations to be sampled for each tree.\n",
    "A lower values prevent overfitting but might lead to under-fitting.\n",
    "The value must be between 0 and 1. Default is 1."
   ]
  },
  {
   "cell_type": "code",
   "execution_count": 98,
   "id": "17fd3933-8a4c-4306-83af-725ba14e1b8a",
   "metadata": {
    "scrolled": true
   },
   "outputs": [
    {
     "name": "stdout",
     "output_type": "stream",
     "text": [
      "[21:29:46] WARNING: C:\\Windows\\Temp\\abs_557yfx631l\\croots\\recipe\\xgboost-split_1659548953302\\work\\src\\learner.cc:1115: Starting in XGBoost 1.3.0, the default evaluation metric used with the objective 'binary:logistic' was changed from 'error' to 'logloss'. Explicitly set eval_metric if you'd like to restore the old behavior.\n"
     ]
    }
   ],
   "source": [
    "param_grid = { \n",
    "              'n_estimators':[5,20,50,100],\n",
    "              'subsample':[0,1]\n",
    "              }\n",
    "best_grid_search_model = GridSearchCV(estimator=XGBClassifier(random_state=random_seed), \n",
    "                                    scoring='recall', param_grid=param_grid, cv=10, verbose=0,  n_jobs = -1)\n",
    "_ = best_grid_search_model.fit(X_train, y_train)"
   ]
  },
  {
   "cell_type": "code",
   "execution_count": 99,
   "id": "e27b2cfd",
   "metadata": {},
   "outputs": [
    {
     "name": "stdout",
     "output_type": "stream",
     "text": [
      "      Model             Score       \n",
      "************************************\n",
      ">> Recall Score:  0.9696969696969697\n",
      "Accuracy Score:   0.9625\n",
      "Precision Score:  0.9411764705882353\n",
      "F1 Score:         0.955223880597015\n"
     ]
    }
   ],
   "source": [
    "print(f\"{'Model':^18}{'Score':^18}\")\n",
    "print(\"************************************\")\n",
    "print(f\"{'>> Recall Score:':18}{recall_score(y_test, y_pred)}\")\n",
    "print(f\"{'Accuracy Score: ':18}{accuracy_score(y_test, y_pred)}\")\n",
    "print(f\"{'Precision Score: ':18}{precision_score(y_test, y_pred)}\")\n",
    "print(f\"{'F1 Score: ':18}{f1_score(y_test, y_pred)}\")"
   ]
  },
  {
   "cell_type": "markdown",
   "id": "23804aae-a99a-4f5c-8feb-d506ec15ce7a",
   "metadata": {},
   "source": [
    "## 5.5 Train a K-nn Module\n",
    "\n",
    "If k is an even number, there is a possibility that an observation could have the same number of nearest neighbors being one class (who are diagnosed) as the number being another (who are not diagnosed). In the cases of a tie, the SKLearn implementation of k-nn will select the first found. Though the chances of this happening are low, it's better to avoid this by choosing an odd number."
   ]
  },
  {
   "cell_type": "code",
   "execution_count": 101,
   "id": "f6715ca9-d8a0-4977-a3e1-fb090357971a",
   "metadata": {},
   "outputs": [],
   "source": [
    "criterion = ['gini', 'entropy']\n",
    "max_depth = [int(x) for x in np.linspace(1, 500, 50)]\n",
    "min_samples_split = [int(x) for x in np.linspace(2, 500, 50)]\n",
    "min_samples_leaf = [int(x) for x in np.linspace(1, 100, 50)]\n",
    "max_leaf_nodes = [int(x) for x in np.linspace(2, len(y_test), 50)]\n",
    "min_impurity_decrease = [x for x in np.arange(0.0,0.001, 0.0001).round(5)]\n",
    "\n",
    "param_grid_random = { 'n_neighbors': list(range(1,49,2)),\n",
    "                     'metric': ['euclidean', 'cosine']\n",
    "                     }                     "
   ]
  },
  {
   "cell_type": "code",
   "execution_count": 104,
   "id": "fea29e86-69b9-4e1e-bb32-fb9b86bcffd1",
   "metadata": {},
   "outputs": [],
   "source": [
    "random_seed=6\n",
    "#dtree_default = KNeighborsClassifier(random_state=random_seed)\n",
    "# change n_iter to 200_000 for full run\n",
    "best_random_search_model = RandomizedSearchCV(\n",
    "        estimator=KNeighborsClassifier(), \n",
    "        scoring='recall', \n",
    "        param_distributions=param_grid_random, \n",
    "        n_iter = 200, \n",
    "        cv=10, \n",
    "        verbose=0, \n",
    "        n_jobs = -1,\n",
    "        random_state=random_seed\n",
    "    )\n",
    "best_random_search_dtree_model = best_random_search_model.fit(X_train, y_train)"
   ]
  },
  {
   "cell_type": "code",
   "execution_count": 105,
   "id": "1e96f07a-d990-4408-978f-39b23a6ef3f7",
   "metadata": {},
   "outputs": [
    {
     "name": "stdout",
     "output_type": "stream",
     "text": [
      "Best parameters found:  {'n_neighbors': 11, 'metric': 'cosine'}\n"
     ]
    }
   ],
   "source": [
    "random_search_best_dtree_params = best_random_search_dtree_model.best_params_\n",
    "print('Best parameters found: ', random_search_best_dtree_params)"
   ]
  },
  {
   "cell_type": "code",
   "execution_count": 107,
   "id": "b3e53266-4551-4c2e-95fe-9210bca636ad",
   "metadata": {},
   "outputs": [
    {
     "name": "stdout",
     "output_type": "stream",
     "text": [
      "recall score:  0.8803030303030303\n",
      "parameters:  {'metric': 'cosine', 'n_neighbors': 11}\n"
     ]
    }
   ],
   "source": [
    "gridSearch = GridSearchCV(KNeighborsClassifier(), param_grid_random, cv=10, scoring='recall',\n",
    "                          n_jobs=-1)  # n_jobs=-1 will utilize all available CPUs \n",
    "gridSearch.fit(X_train, y_train)\n",
    "print('recall', 'score: ', gridSearch.best_score_)\n",
    "print('parameters: ', gridSearch.best_params_)\n",
    "\n",
    "bestAccuracyKnn = gridSearch.best_estimator_"
   ]
  },
  {
   "cell_type": "markdown",
   "id": "597290cb",
   "metadata": {},
   "source": [
    "## 5.6 Training Logistic regression using GridSearchCV"
   ]
  },
  {
   "cell_type": "code",
   "execution_count": 108,
   "id": "8584723b-c474-4ca3-a840-6222bf1bddf3",
   "metadata": {},
   "outputs": [],
   "source": [
    "param_grid = { 'solver': ['newton-cg', 'lbfgs', 'liblinear', 'sag', 'saga'],\n",
    "                      'penalty': ['l1', 'l2', 'none'], # NOTE: 'elasticnet' is only supported by 'saga' solver\n",
    "                      'C': [100, 10, 1.0, 0.1, 0.01],\n",
    "                      'max_iter': [500000] # number of iterations to converge (sometimes the default is not enough - and sometimes, it will never converge)\n",
    "                     }"
   ]
  },
  {
   "cell_type": "code",
   "execution_count": null,
   "id": "397ad2b7",
   "metadata": {},
   "outputs": [],
   "source": [
    "best_logClassifer = GridSearchCV(estimator=LogisticRegression(random_state=1),\n",
    "                                    scoring='recall', param_grid=param_grid, \n",
    "                                    cv=2, verbose=0,  n_jobs = -1)\n",
    "best_logClassifer = best_logClassifer.fit(X_train, y_train)"
   ]
  },
  {
   "cell_type": "code",
   "execution_count": 25,
   "id": "be52aeef-028f-4cac-85e2-a1b2452cab51",
   "metadata": {},
   "outputs": [
    {
     "name": "stdout",
     "output_type": "stream",
     "text": [
      "***********************\n",
      "Recall Score:     0.000\n",
      "***********************\n",
      "Accuracy Score:   0.595\n",
      "Precision Score:  0.000\n",
      "F1 Score:         0.000\n",
      "***********************\n"
     ]
    }
   ],
   "source": [
    "y_pred = best_logClassifer.predict(X_test)\n",
    "print(\"***********************\")\n",
    "print(f\"{'Recall Score:':18}{recall_score(y_test, y_pred):.3f}\")\n",
    "print(\"***********************\")\n",
    "print(f\"{'Accuracy Score: ':18}{accuracy_score(y_test, y_pred):.3f}\")\n",
    "print(f\"{'Precision Score: ':18}{precision_score(y_test, y_pred):.3f}\")\n",
    "print(f\"{'F1 Score: ':18}{f1_score(y_test, y_pred):.3f}\")\n",
    "print(\"***********************\")"
   ]
  },
  {
   "cell_type": "markdown",
   "id": "8f3e972b-5bc4-4aeb-ae21-26da2e8b7116",
   "metadata": {},
   "source": [
    "## 6. ROC - receiver operating characteristic curve"
   ]
  },
  {
   "cell_type": "markdown",
   "id": "0537c3bb-f94e-4391-81e1-81d6b8959448",
   "metadata": {},
   "source": [
    "ROC curve is a performance measurement for the classification problems at various threshold settings. ROC is a probability curve and AUC represents the degree or measure of separability. It tells how much the model is capable of distinguishing between classes.ROC curves will be used when there are roughly equal numbers of observations for each class.  Here we considered ROC - receiver operating characteristic curve,as our dataset small and balanced one Precision-Recall curves should be used when there is a moderate to large class imbalance."
   ]
  },
  {
   "cell_type": "code",
   "execution_count": null,
   "id": "ae2c6e49",
   "metadata": {},
   "outputs": [],
   "source": [
    "dtree=XGBClassifier(random_state=1, max_depth=2)\n",
    "_ = dtree.fit(X_train, y_train)\n",
    "\n",
    "tps = []\n",
    "fps = []\n",
    "tns = []\n",
    "fns = []  \n",
    "precs = []\n",
    "recls = []\n",
    "\n",
    "tprs = []\n",
    "fprs = []\n",
    "thres = []\n",
    "for threshold in np.arange(0.0, 1.1, 0.1):\n",
    "    y_pred= dtree.predict_proba(X_test)[:,1]>=threshold\n",
    "    m = confusion_matrix(y_test, y_pred)\n",
    "    TP = m[1,1]\n",
    "    TN = m[0,0]\n",
    "    FP = m[0,1]\n",
    "    FN = m[1,0]\n",
    "    TPR = TP/(TP+FN)\n",
    "    FPR = FP/(FP+TN)\n",
    "    recall = TP / (TP+FN)\n",
    "    precision = TP / (TP+FP)\n",
    "    tps.append(TP)\n",
    "    fps.append(FP)\n",
    "    tns.append(TN)\n",
    "    fns.append(FN)\n",
    "    tprs.append(TPR)\n",
    "    fprs.append(FPR)\n",
    "    recls.append(recall)\n",
    "    precs.append(precision)\n",
    "    thres.append(str(round(threshold,2)))\n",
    "\n",
    "print(y_test.value_counts())\n",
    "df = pd.DataFrame(list(zip(thres, tps, fps, tns, fns, fprs, tprs, precs, recls)), columns=['Threshold', 'TP', 'FP', 'TN', 'FN', 'FPR', 'TPR', 'Precision', 'Recall'])\n",
    "df"
   ]
  },
  {
   "cell_type": "code",
   "execution_count": 122,
   "id": "c5a92511-83c2-411b-ad3d-36d1febc6779",
   "metadata": {},
   "outputs": [
    {
     "data": {
      "image/png": "[encoded data removed]",
      "text/plain": [
       "<Figure size 1000x1000 with 1 Axes>"
      ]
     },
     "metadata": {},
     "output_type": "display_data"
    }
   ],
   "source": [
    "# compute roc auc\n",
    "roc_auc = auc(tprs, fprs)\n",
    "\n",
    "plt.figure(figsize=(10,10))\n",
    "plt.plot(fprs, tprs, color='darkorange', lw=2, label=f'ROC curve {roc_auc:.2f}')\n",
    "plt.plot([0, 1], [0, 1], color='navy', lw=2, linestyle='--')\n",
    "plt.xlim([0.0, 1.0])\n",
    "plt.ylim([0.0, 1.05])\n",
    "plt.xlabel('False Positive Rate')\n",
    "plt.ylabel('True Positive Rate')\n",
    "plt.title('Receiver operating characteristic example')\n",
    "plt.legend(loc=\"lower right\")\n",
    "\n",
    "for i in range(len(tprs)):\n",
    "    plt.annotate(thres[i], (fprs[i], tprs[i] + 0.02))\n"
   ]
  },
  {
   "cell_type": "code",
   "execution_count": 123,
   "id": "d6f9ddac-ca91-4e39-968a-bc37c73eb8d3",
   "metadata": {},
   "outputs": [
    {
     "data": {
      "image/png": "[encoded data removed]",
      "text/plain": [
       "<Figure size 640x480 with 1 Axes>"
      ]
     },
     "metadata": {},
     "output_type": "display_data"
    }
   ],
   "source": [
    "RocCurveDisplay.from_estimator(dtree, X_test, y_test) \n",
    "plt.show()"
   ]
  },
  {
   "cell_type": "markdown",
   "id": "43289a1a-106b-4dbb-8709-06c43067dbd5",
   "metadata": {},
   "source": [
    "## 7. Summary"
   ]
  },
  {
   "cell_type": "markdown",
   "id": "5a24454a-4cef-40dd-939e-0a76b09d4588",
   "metadata": {},
   "source": [
    "*For our Chronic Kidney Disease dataset from India, we observe a greater negative impact for false negative than for false positive, hence we tried to choose a model with highest recall value.*\n",
    "*We have split the data as 80/20 train test slipt and applied suitable modules with default parameters and also by tuned them.*"
   ]
  },
  {
   "cell_type": "markdown",
   "id": "83287df2",
   "metadata": {},
   "source": [
    "> Recall scores before Hyper parameter tuning"
   ]
  },
  {
   "cell_type": "markdown",
   "id": "863fa85a",
   "metadata": {},
   "source": [
    "\n",
    "| model | Recall\n",
    "| ---- | ---- |\n",
    "| Knn   | 0.7878\n",
    "| Decision tree | 0.9393 \n",
    "| Random forest  | 0.9696 \n",
    "| XgBoost  | 0.9696 \n",
    "| AdaBoost | 0.9696 \n",
    "| Logistic regression | 0.97\n",
    "| MLP | 0.85\n"
   ]
  },
  {
   "cell_type": "markdown",
   "id": "b6f694d0",
   "metadata": {},
   "source": [
    "> Recall scores after Hyper parameter tuning"
   ]
  },
  {
   "cell_type": "markdown",
   "id": "ab53fd2c",
   "metadata": {},
   "source": [
    "\n",
    "| model | Recall\n",
    "| ---- | ----\n",
    "| Knn   | 0.8803\n",
    "| Decision tree | 0.9572\n",
    "| Random forest  | 0.9375\n",
    "| XgBoost  | 0.9696 \n",
    "| AdaBoost | 0.9916\n",
    "| Logistic Regression | TBD\n",
    "\n"
   ]
  },
  {
   "cell_type": "markdown",
   "id": "bb0b36ec",
   "metadata": {},
   "source": [
    "From the above data we can say that there is a significant increase in recall score after implementing the hyper parameter tuning. *We have got the best solution by using hyper tuning on 'AdaBoost using GridsearchCv' (Highest Recall Score ) that is 0.9916.*"
   ]
  }
 ],
 "metadata": {
  "kernelspec": {
   "display_name": "Python 3 (ipykernel)",
   "language": "python",
   "name": "python3"
  },
  "language_info": {
   "codemirror_mode": {
    "name": "ipython",
    "version": 3
   },
   "file_extension": ".py",
   "mimetype": "text/x-python",
   "name": "python",
   "nbconvert_exporter": "python",
   "pygments_lexer": "ipython3",
   "version": "3.9.12"
  }
 },
 "nbformat": 4,
 "nbformat_minor": 5
}
